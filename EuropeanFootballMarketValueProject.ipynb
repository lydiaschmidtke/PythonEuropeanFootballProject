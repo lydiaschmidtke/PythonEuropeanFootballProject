{
 "cells": [
  {
   "cell_type": "code",
   "execution_count": 1,
   "metadata": {},
   "outputs": [],
   "source": [
    "import pandas as pd\n",
    "import numpy as np\n",
    "from sklearn.neighbors import KNeighborsRegressor\n",
    "from sklearn.model_selection import train_test_split\n",
    "from sklearn.linear_model import LinearRegression\n",
    "from sklearn.linear_model import Ridge\n",
    "from sklearn.linear_model import Lasso\n",
    "from sklearn.model_selection import validation_curve\n",
    "from sklearn.tree import export_graphviz\n",
    "from sklearn.tree import DecisionTreeRegressor\n",
    "from sklearn.ensemble import RandomForestRegressor"
   ]
  },
  {
   "cell_type": "markdown",
   "metadata": {},
   "source": [
    "# Data Cleaning"
   ]
  },
  {
   "cell_type": "code",
   "execution_count": 2,
   "metadata": {},
   "outputs": [
    {
     "data": {
      "text/html": [
       "<div>\n",
       "<style scoped>\n",
       "    .dataframe tbody tr th:only-of-type {\n",
       "        vertical-align: middle;\n",
       "    }\n",
       "\n",
       "    .dataframe tbody tr th {\n",
       "        vertical-align: top;\n",
       "    }\n",
       "\n",
       "    .dataframe thead th {\n",
       "        text-align: right;\n",
       "    }\n",
       "</style>\n",
       "<table border=\"1\" class=\"dataframe\">\n",
       "  <thead>\n",
       "    <tr style=\"text-align: right;\">\n",
       "      <th></th>\n",
       "      <th>FullName</th>\n",
       "      <th>PlayerName</th>\n",
       "      <th>Affiliation</th>\n",
       "      <th>Champions League</th>\n",
       "      <th>League</th>\n",
       "      <th>League Nation</th>\n",
       "      <th>Jersey</th>\n",
       "      <th>Birth Date</th>\n",
       "      <th>Age</th>\n",
       "      <th>Height (meters)</th>\n",
       "      <th>...</th>\n",
       "      <th>Continent</th>\n",
       "      <th>Games Played</th>\n",
       "      <th>2018/19 Games Played</th>\n",
       "      <th>Market Value (Euros)</th>\n",
       "      <th>Accumulated Transfer Sums (Euros)</th>\n",
       "      <th>Highest Market Value (Euros)</th>\n",
       "      <th>Highest Market Value Date</th>\n",
       "      <th>Years Since Peak</th>\n",
       "      <th>NationalTeamCaps</th>\n",
       "      <th>MostRecentInjury</th>\n",
       "    </tr>\n",
       "  </thead>\n",
       "  <tbody>\n",
       "    <tr>\n",
       "      <th>0</th>\n",
       "      <td>Kylian Sanmi Mbappé Lottin</td>\n",
       "      <td>Kylian Mbappe</td>\n",
       "      <td>Paris SG</td>\n",
       "      <td>Yes</td>\n",
       "      <td>Ligue 1</td>\n",
       "      <td>France</td>\n",
       "      <td>#7</td>\n",
       "      <td>12/20/1998</td>\n",
       "      <td>20</td>\n",
       "      <td>1.78</td>\n",
       "      <td>...</td>\n",
       "      <td>UEFA</td>\n",
       "      <td>5</td>\n",
       "      <td>29</td>\n",
       "      <td>200000000.0</td>\n",
       "      <td>145000000</td>\n",
       "      <td>200000000.0</td>\n",
       "      <td>12/17/2018</td>\n",
       "      <td>0</td>\n",
       "      <td>33</td>\n",
       "      <td>NaN</td>\n",
       "    </tr>\n",
       "    <tr>\n",
       "      <th>1</th>\n",
       "      <td>Neymar da Silva Santos Júnior</td>\n",
       "      <td>Neymar</td>\n",
       "      <td>Paris SG</td>\n",
       "      <td>Yes</td>\n",
       "      <td>Ligue 1</td>\n",
       "      <td>France</td>\n",
       "      <td>#10</td>\n",
       "      <td>2/5/1992</td>\n",
       "      <td>27</td>\n",
       "      <td>1.75</td>\n",
       "      <td>...</td>\n",
       "      <td>CONMEBOL</td>\n",
       "      <td>4</td>\n",
       "      <td>17</td>\n",
       "      <td>180000000.0</td>\n",
       "      <td>310200000</td>\n",
       "      <td>180000000.0</td>\n",
       "      <td>1/24/2018</td>\n",
       "      <td>0</td>\n",
       "      <td>102</td>\n",
       "      <td>Hamstring Injury: Return unknown</td>\n",
       "    </tr>\n",
       "    <tr>\n",
       "      <th>2</th>\n",
       "      <td>NaN</td>\n",
       "      <td>Mohamed Salah</td>\n",
       "      <td>Liverpool</td>\n",
       "      <td>Yes</td>\n",
       "      <td>Premier League</td>\n",
       "      <td>England</td>\n",
       "      <td>#11</td>\n",
       "      <td>6/15/1992</td>\n",
       "      <td>27</td>\n",
       "      <td>1.75</td>\n",
       "      <td>...</td>\n",
       "      <td>CAF</td>\n",
       "      <td>6</td>\n",
       "      <td>38</td>\n",
       "      <td>150000000.0</td>\n",
       "      <td>81000000</td>\n",
       "      <td>150000000.0</td>\n",
       "      <td>5/28/2018</td>\n",
       "      <td>0</td>\n",
       "      <td>67</td>\n",
       "      <td>NaN</td>\n",
       "    </tr>\n",
       "    <tr>\n",
       "      <th>3</th>\n",
       "      <td>Eden Michael Hazard</td>\n",
       "      <td>Eden Hazard</td>\n",
       "      <td>Real Madrid</td>\n",
       "      <td>Yes</td>\n",
       "      <td>LaLiga</td>\n",
       "      <td>Spain</td>\n",
       "      <td>#7</td>\n",
       "      <td>1/7/1991</td>\n",
       "      <td>28</td>\n",
       "      <td>1.75</td>\n",
       "      <td>...</td>\n",
       "      <td>UEFA</td>\n",
       "      <td>1</td>\n",
       "      <td>37</td>\n",
       "      <td>150000000.0</td>\n",
       "      <td>135000000</td>\n",
       "      <td>150000000.0</td>\n",
       "      <td>10/17/2018</td>\n",
       "      <td>0</td>\n",
       "      <td>106</td>\n",
       "      <td>NaN</td>\n",
       "    </tr>\n",
       "    <tr>\n",
       "      <th>4</th>\n",
       "      <td>Lionel Andrés Messi Cuccitini</td>\n",
       "      <td>Lionel Messi</td>\n",
       "      <td>FC Barcelona</td>\n",
       "      <td>Yes</td>\n",
       "      <td>LaLiga</td>\n",
       "      <td>Spain</td>\n",
       "      <td>#10</td>\n",
       "      <td>6/24/1987</td>\n",
       "      <td>32</td>\n",
       "      <td>1.70</td>\n",
       "      <td>...</td>\n",
       "      <td>CONMEBOL</td>\n",
       "      <td>8</td>\n",
       "      <td>34</td>\n",
       "      <td>150000000.0</td>\n",
       "      <td>0</td>\n",
       "      <td>180000000.0</td>\n",
       "      <td>1/1/2018</td>\n",
       "      <td>1</td>\n",
       "      <td>138</td>\n",
       "      <td>NaN</td>\n",
       "    </tr>\n",
       "  </tbody>\n",
       "</table>\n",
       "<p>5 rows × 27 columns</p>\n",
       "</div>"
      ],
      "text/plain": [
       "                        FullName     PlayerName   Affiliation  \\\n",
       "0     Kylian Sanmi Mbappé Lottin  Kylian Mbappe      Paris SG   \n",
       "1  Neymar da Silva Santos Júnior         Neymar      Paris SG   \n",
       "2                            NaN  Mohamed Salah     Liverpool   \n",
       "3            Eden Michael Hazard    Eden Hazard   Real Madrid   \n",
       "4  Lionel Andrés Messi Cuccitini   Lionel Messi  FC Barcelona   \n",
       "\n",
       "  Champions League          League League Nation Jersey  Birth Date  Age  \\\n",
       "0              Yes         Ligue 1        France     #7  12/20/1998   20   \n",
       "1              Yes         Ligue 1        France    #10    2/5/1992   27   \n",
       "2              Yes  Premier League       England    #11   6/15/1992   27   \n",
       "3              Yes          LaLiga         Spain     #7    1/7/1991   28   \n",
       "4              Yes          LaLiga         Spain    #10   6/24/1987   32   \n",
       "\n",
       "   Height (meters)  ... Continent Games Played 2018/19 Games Played  \\\n",
       "0             1.78  ...      UEFA            5                   29   \n",
       "1             1.75  ...  CONMEBOL            4                   17   \n",
       "2             1.75  ...       CAF            6                   38   \n",
       "3             1.75  ...      UEFA            1                   37   \n",
       "4             1.70  ...  CONMEBOL            8                   34   \n",
       "\n",
       "  Market Value (Euros) Accumulated Transfer Sums (Euros)  \\\n",
       "0          200000000.0                         145000000   \n",
       "1          180000000.0                         310200000   \n",
       "2          150000000.0                          81000000   \n",
       "3          150000000.0                         135000000   \n",
       "4          150000000.0                                 0   \n",
       "\n",
       "  Highest Market Value (Euros) Highest Market Value Date Years Since Peak  \\\n",
       "0                  200000000.0                12/17/2018                0   \n",
       "1                  180000000.0                 1/24/2018                0   \n",
       "2                  150000000.0                 5/28/2018                0   \n",
       "3                  150000000.0                10/17/2018                0   \n",
       "4                  180000000.0                  1/1/2018                1   \n",
       "\n",
       "   NationalTeamCaps                  MostRecentInjury  \n",
       "0                33                               NaN  \n",
       "1               102  Hamstring Injury: Return unknown  \n",
       "2                67                               NaN  \n",
       "3               106                               NaN  \n",
       "4               138                               NaN  \n",
       "\n",
       "[5 rows x 27 columns]"
      ]
     },
     "execution_count": 2,
     "metadata": {},
     "output_type": "execute_result"
    }
   ],
   "source": [
    "# import the data, read, examine it\n",
    "soccer=pd.read_csv(\"Edited_European_Rosters-2.csv\")\n",
    "soccer.head()"
   ]
  },
  {
   "cell_type": "code",
   "execution_count": 3,
   "metadata": {},
   "outputs": [
    {
     "data": {
      "text/plain": [
       "(4308, 27)"
      ]
     },
     "execution_count": 3,
     "metadata": {},
     "output_type": "execute_result"
    }
   ],
   "source": [
    "soccer.shape"
   ]
  },
  {
   "cell_type": "code",
   "execution_count": 4,
   "metadata": {},
   "outputs": [
    {
     "data": {
      "text/plain": [
       "Index(['FullName', 'PlayerName', 'Affiliation', 'Champions League', 'League',\n",
       "       'League Nation', 'Jersey', 'Birth Date', 'Age', 'Height (meters)',\n",
       "       'Position', 'Foot', 'Agent', 'Agent Yes/No', 'PlayerSponsor',\n",
       "       'Nationality', 'Nation/League', 'Continent', 'Games Played',\n",
       "       '2018/19 Games Played', 'Market Value (Euros)',\n",
       "       'Accumulated Transfer Sums (Euros)', 'Highest Market Value (Euros)',\n",
       "       'Highest Market Value Date', 'Years Since Peak', 'NationalTeamCaps',\n",
       "       'MostRecentInjury'],\n",
       "      dtype='object')"
      ]
     },
     "execution_count": 4,
     "metadata": {},
     "output_type": "execute_result"
    }
   ],
   "source": [
    "soccer.columns"
   ]
  },
  {
   "cell_type": "code",
   "execution_count": 5,
   "metadata": {},
   "outputs": [],
   "source": [
    "#shuffling\n",
    "soccer=soccer.sample(frac=1, random_state=0)"
   ]
  },
  {
   "cell_type": "code",
   "execution_count": 6,
   "metadata": {},
   "outputs": [
    {
     "data": {
      "text/html": [
       "<div>\n",
       "<style scoped>\n",
       "    .dataframe tbody tr th:only-of-type {\n",
       "        vertical-align: middle;\n",
       "    }\n",
       "\n",
       "    .dataframe tbody tr th {\n",
       "        vertical-align: top;\n",
       "    }\n",
       "\n",
       "    .dataframe thead th {\n",
       "        text-align: right;\n",
       "    }\n",
       "</style>\n",
       "<table border=\"1\" class=\"dataframe\">\n",
       "  <thead>\n",
       "    <tr style=\"text-align: right;\">\n",
       "      <th></th>\n",
       "      <th>Champions League</th>\n",
       "      <th>League</th>\n",
       "      <th>Age</th>\n",
       "      <th>Height (meters)</th>\n",
       "      <th>Position</th>\n",
       "      <th>Foot</th>\n",
       "      <th>Agent Yes/No</th>\n",
       "      <th>PlayerSponsor</th>\n",
       "      <th>Nation/League</th>\n",
       "      <th>Continent</th>\n",
       "      <th>2018/19 Games Played</th>\n",
       "      <th>Market Value (Euros)</th>\n",
       "      <th>Highest Market Value (Euros)</th>\n",
       "      <th>Years Since Peak</th>\n",
       "      <th>NationalTeamCaps</th>\n",
       "    </tr>\n",
       "  </thead>\n",
       "  <tbody>\n",
       "    <tr>\n",
       "      <th>1119</th>\n",
       "      <td>No</td>\n",
       "      <td>Ligue 1</td>\n",
       "      <td>21</td>\n",
       "      <td>1.74</td>\n",
       "      <td>Forward</td>\n",
       "      <td>right</td>\n",
       "      <td>Yes</td>\n",
       "      <td>Other</td>\n",
       "      <td>Yes</td>\n",
       "      <td>UEFA</td>\n",
       "      <td>35</td>\n",
       "      <td>7500000.0</td>\n",
       "      <td>7500000.0</td>\n",
       "      <td>0</td>\n",
       "      <td>2</td>\n",
       "    </tr>\n",
       "    <tr>\n",
       "      <th>2734</th>\n",
       "      <td>No</td>\n",
       "      <td>Ligue 1</td>\n",
       "      <td>25</td>\n",
       "      <td>1.77</td>\n",
       "      <td>Midfielder</td>\n",
       "      <td>right</td>\n",
       "      <td>Yes</td>\n",
       "      <td>Other</td>\n",
       "      <td>No</td>\n",
       "      <td>CAF</td>\n",
       "      <td>33</td>\n",
       "      <td>1000000.0</td>\n",
       "      <td>1000000.0</td>\n",
       "      <td>0</td>\n",
       "      <td>1</td>\n",
       "    </tr>\n",
       "    <tr>\n",
       "      <th>1798</th>\n",
       "      <td>No</td>\n",
       "      <td>Serie A</td>\n",
       "      <td>24</td>\n",
       "      <td>1.87</td>\n",
       "      <td>Defender</td>\n",
       "      <td>left</td>\n",
       "      <td>Yes</td>\n",
       "      <td>Other</td>\n",
       "      <td>No</td>\n",
       "      <td>UEFA</td>\n",
       "      <td>3</td>\n",
       "      <td>3500000.0</td>\n",
       "      <td>4000000.0</td>\n",
       "      <td>1</td>\n",
       "      <td>8</td>\n",
       "    </tr>\n",
       "    <tr>\n",
       "      <th>481</th>\n",
       "      <td>No</td>\n",
       "      <td>Serie A</td>\n",
       "      <td>25</td>\n",
       "      <td>1.74</td>\n",
       "      <td>Midfielder</td>\n",
       "      <td>right</td>\n",
       "      <td>Yes</td>\n",
       "      <td>Other</td>\n",
       "      <td>Yes</td>\n",
       "      <td>UEFA</td>\n",
       "      <td>33</td>\n",
       "      <td>18000000.0</td>\n",
       "      <td>100000.0</td>\n",
       "      <td>0</td>\n",
       "      <td>1</td>\n",
       "    </tr>\n",
       "    <tr>\n",
       "      <th>559</th>\n",
       "      <td>Yes</td>\n",
       "      <td>Premier Liga</td>\n",
       "      <td>24</td>\n",
       "      <td>1.82</td>\n",
       "      <td>Midfielder</td>\n",
       "      <td>left</td>\n",
       "      <td>No</td>\n",
       "      <td>adidas</td>\n",
       "      <td>Yes</td>\n",
       "      <td>UEFA</td>\n",
       "      <td>0</td>\n",
       "      <td>16000000.0</td>\n",
       "      <td>16000000.0</td>\n",
       "      <td>0</td>\n",
       "      <td>25</td>\n",
       "    </tr>\n",
       "  </tbody>\n",
       "</table>\n",
       "</div>"
      ],
      "text/plain": [
       "     Champions League        League  Age  Height (meters)     Position   Foot  \\\n",
       "1119               No       Ligue 1   21             1.74     Forward   right   \n",
       "2734               No       Ligue 1   25             1.77  Midfielder   right   \n",
       "1798               No       Serie A   24             1.87    Defender    left   \n",
       "481                No       Serie A   25             1.74  Midfielder   right   \n",
       "559               Yes  Premier Liga   24             1.82  Midfielder    left   \n",
       "\n",
       "     Agent Yes/No PlayerSponsor Nation/League Continent  2018/19 Games Played  \\\n",
       "1119          Yes         Other           Yes      UEFA                    35   \n",
       "2734          Yes         Other            No       CAF                    33   \n",
       "1798          Yes         Other            No      UEFA                     3   \n",
       "481           Yes         Other           Yes      UEFA                    33   \n",
       "559            No        adidas           Yes      UEFA                     0   \n",
       "\n",
       "      Market Value (Euros)  Highest Market Value (Euros)  Years Since Peak  \\\n",
       "1119             7500000.0                     7500000.0                 0   \n",
       "2734             1000000.0                     1000000.0                 0   \n",
       "1798             3500000.0                     4000000.0                 1   \n",
       "481             18000000.0                      100000.0                 0   \n",
       "559             16000000.0                    16000000.0                 0   \n",
       "\n",
       "      NationalTeamCaps  \n",
       "1119                 2  \n",
       "2734                 1  \n",
       "1798                 8  \n",
       "481                  1  \n",
       "559                 25  "
      ]
     },
     "execution_count": 6,
     "metadata": {},
     "output_type": "execute_result"
    }
   ],
   "source": [
    "# pulling only the columns we want to use\n",
    "soccer1=soccer.iloc[:,[3,4,8,9,10,11,13,14,16,17,19,20,22,24,25]].copy()\n",
    "soccer1.head()"
   ]
  },
  {
   "cell_type": "code",
   "execution_count": 7,
   "metadata": {},
   "outputs": [
    {
     "data": {
      "text/plain": [
       "Index(['Champions League', 'League', 'Age', 'Height (meters)', 'Position',\n",
       "       'Foot', 'Agent Yes/No', 'PlayerSponsor', 'Nation/League', 'Continent',\n",
       "       '2018/19 Games Played', 'Market Value (Euros)',\n",
       "       'Highest Market Value (Euros)', 'Years Since Peak', 'NationalTeamCaps'],\n",
       "      dtype='object')"
      ]
     },
     "execution_count": 7,
     "metadata": {},
     "output_type": "execute_result"
    }
   ],
   "source": [
    "soccer1.columns"
   ]
  },
  {
   "cell_type": "code",
   "execution_count": 8,
   "metadata": {},
   "outputs": [
    {
     "name": "stdout",
     "output_type": "stream",
     "text": [
      "Champions League: \n",
      " No     3668\n",
      "Yes     640\n",
      "Name: Champions League, dtype: int64 \n",
      "\n",
      "League: \n",
      " Serie A               547\n",
      "Ligue 1               546\n",
      "Bundesliga            533\n",
      "Premier League        505\n",
      "LaLiga                490\n",
      "Eredivisie            486\n",
      "Liga NOS              478\n",
      "Premier Liga          413\n",
      "Jupiler Pro League    310\n",
      "Name: League, dtype: int64 \n",
      "\n",
      "Position: \n",
      " Defender       1434\n",
      "Midfielder     1215\n",
      "Forward        1136\n",
      "Goalkeeper      494\n",
      "Midfielder        1\n",
      "Name: Position, dtype: int64 \n",
      "\n",
      "Foot: \n",
      " right    2888\n",
      "left     1004\n",
      "both      200\n",
      "-           6\n",
      "Name: Foot, dtype: int64 \n",
      "\n",
      "Agent: \n",
      " Yes    3618\n",
      "No      690\n",
      "Name: Agent Yes/No, dtype: int64 \n",
      "\n",
      "Player Sponsor \n",
      " Other     2576\n",
      "None       675\n",
      "Nike       513\n",
      "adidas     456\n",
      "Puma        88\n",
      "Name: PlayerSponsor, dtype: int64 \n",
      "\n",
      "Nation/League \n",
      " No     2231\n",
      "Yes    2077\n",
      "Name: Nation/League, dtype: int64 \n",
      "\n",
      "Continent \n",
      " UEFA        3241\n",
      "CONMEBOL     502\n",
      "CAF          405\n",
      "AFC           67\n",
      "CONCACAF      66\n",
      "OFC            5\n",
      "Name: Continent, dtype: int64 \n",
      "\n"
     ]
    }
   ],
   "source": [
    "#checking categorical variables for misspelled or incorrect values\n",
    "print('Champions League:','\\n',soccer1['Champions League'].value_counts(),'\\n')\n",
    "print('League:','\\n',soccer1['League'].value_counts(),'\\n')\n",
    "print('Position:','\\n',soccer1['Position'].value_counts(),'\\n')\n",
    "print('Foot:','\\n',soccer1['Foot'].value_counts(),'\\n')\n",
    "print('Agent:','\\n',soccer1['Agent Yes/No'].value_counts(),'\\n')\n",
    "print('Player Sponsor','\\n',soccer1['PlayerSponsor'].value_counts(),'\\n')\n",
    "print('Nation/League','\\n',soccer1['Nation/League'].value_counts(),'\\n')\n",
    "print('Continent','\\n',soccer1['Continent'].value_counts(),'\\n')"
   ]
  },
  {
   "cell_type": "code",
   "execution_count": 9,
   "metadata": {},
   "outputs": [
    {
     "data": {
      "text/plain": [
       "Champions League                  0\n",
       "League                            0\n",
       "Age                               0\n",
       "Height (meters)                  83\n",
       "Position                         28\n",
       "Foot                            210\n",
       "Agent Yes/No                      0\n",
       "PlayerSponsor                     0\n",
       "Nation/League                     0\n",
       "Continent                        22\n",
       "2018/19 Games Played              0\n",
       "Market Value (Euros)             19\n",
       "Highest Market Value (Euros)      1\n",
       "Years Since Peak                  0\n",
       "NationalTeamCaps                  0\n",
       "dtype: int64"
      ]
     },
     "execution_count": 9,
     "metadata": {},
     "output_type": "execute_result"
    }
   ],
   "source": [
    "#checking for null values\n",
    "soccer1.isnull().sum()"
   ]
  },
  {
   "cell_type": "code",
   "execution_count": 10,
   "metadata": {},
   "outputs": [
    {
     "data": {
      "text/plain": [
       "Champions League                 object\n",
       "League                           object\n",
       "Age                               int64\n",
       "Height (meters)                 float64\n",
       "Position                         object\n",
       "Foot                             object\n",
       "Agent Yes/No                     object\n",
       "PlayerSponsor                    object\n",
       "Nation/League                    object\n",
       "Continent                        object\n",
       "2018/19 Games Played              int64\n",
       "Market Value (Euros)            float64\n",
       "Highest Market Value (Euros)    float64\n",
       "Years Since Peak                  int64\n",
       "NationalTeamCaps                  int64\n",
       "dtype: object"
      ]
     },
     "execution_count": 10,
     "metadata": {},
     "output_type": "execute_result"
    }
   ],
   "source": [
    "# checking that column types are all accurate\n",
    "soccer1.dtypes"
   ]
  },
  {
   "cell_type": "code",
   "execution_count": 11,
   "metadata": {},
   "outputs": [],
   "source": [
    "# dropping null and incorrect values\n",
    "soccer1.dropna(inplace=True)\n",
    "soccer1.drop(soccer1[soccer1['Foot']=='-'].index,inplace=True)"
   ]
  },
  {
   "cell_type": "code",
   "execution_count": 12,
   "metadata": {},
   "outputs": [],
   "source": [
    "# creating features and target sets\n",
    "x_soccer1=soccer1.iloc[:,[0,1,2,3,4,5,6,7,8,9,10,12,13,14]]\n",
    "y_soccer1=soccer1.iloc[:,11]"
   ]
  },
  {
   "cell_type": "code",
   "execution_count": 13,
   "metadata": {},
   "outputs": [
    {
     "data": {
      "text/html": [
       "<div>\n",
       "<style scoped>\n",
       "    .dataframe tbody tr th:only-of-type {\n",
       "        vertical-align: middle;\n",
       "    }\n",
       "\n",
       "    .dataframe tbody tr th {\n",
       "        vertical-align: top;\n",
       "    }\n",
       "\n",
       "    .dataframe thead th {\n",
       "        text-align: right;\n",
       "    }\n",
       "</style>\n",
       "<table border=\"1\" class=\"dataframe\">\n",
       "  <thead>\n",
       "    <tr style=\"text-align: right;\">\n",
       "      <th></th>\n",
       "      <th>Champions League</th>\n",
       "      <th>League</th>\n",
       "      <th>Age</th>\n",
       "      <th>Height (meters)</th>\n",
       "      <th>Position</th>\n",
       "      <th>Foot</th>\n",
       "      <th>Agent Yes/No</th>\n",
       "      <th>PlayerSponsor</th>\n",
       "      <th>Nation/League</th>\n",
       "      <th>Continent</th>\n",
       "      <th>2018/19 Games Played</th>\n",
       "      <th>Highest Market Value (Euros)</th>\n",
       "      <th>Years Since Peak</th>\n",
       "      <th>NationalTeamCaps</th>\n",
       "    </tr>\n",
       "  </thead>\n",
       "  <tbody>\n",
       "    <tr>\n",
       "      <th>1119</th>\n",
       "      <td>No</td>\n",
       "      <td>Ligue 1</td>\n",
       "      <td>21</td>\n",
       "      <td>1.74</td>\n",
       "      <td>Forward</td>\n",
       "      <td>right</td>\n",
       "      <td>Yes</td>\n",
       "      <td>Other</td>\n",
       "      <td>Yes</td>\n",
       "      <td>UEFA</td>\n",
       "      <td>35</td>\n",
       "      <td>7500000.0</td>\n",
       "      <td>0</td>\n",
       "      <td>2</td>\n",
       "    </tr>\n",
       "    <tr>\n",
       "      <th>2734</th>\n",
       "      <td>No</td>\n",
       "      <td>Ligue 1</td>\n",
       "      <td>25</td>\n",
       "      <td>1.77</td>\n",
       "      <td>Midfielder</td>\n",
       "      <td>right</td>\n",
       "      <td>Yes</td>\n",
       "      <td>Other</td>\n",
       "      <td>No</td>\n",
       "      <td>CAF</td>\n",
       "      <td>33</td>\n",
       "      <td>1000000.0</td>\n",
       "      <td>0</td>\n",
       "      <td>1</td>\n",
       "    </tr>\n",
       "    <tr>\n",
       "      <th>1798</th>\n",
       "      <td>No</td>\n",
       "      <td>Serie A</td>\n",
       "      <td>24</td>\n",
       "      <td>1.87</td>\n",
       "      <td>Defender</td>\n",
       "      <td>left</td>\n",
       "      <td>Yes</td>\n",
       "      <td>Other</td>\n",
       "      <td>No</td>\n",
       "      <td>UEFA</td>\n",
       "      <td>3</td>\n",
       "      <td>4000000.0</td>\n",
       "      <td>1</td>\n",
       "      <td>8</td>\n",
       "    </tr>\n",
       "    <tr>\n",
       "      <th>481</th>\n",
       "      <td>No</td>\n",
       "      <td>Serie A</td>\n",
       "      <td>25</td>\n",
       "      <td>1.74</td>\n",
       "      <td>Midfielder</td>\n",
       "      <td>right</td>\n",
       "      <td>Yes</td>\n",
       "      <td>Other</td>\n",
       "      <td>Yes</td>\n",
       "      <td>UEFA</td>\n",
       "      <td>33</td>\n",
       "      <td>100000.0</td>\n",
       "      <td>0</td>\n",
       "      <td>1</td>\n",
       "    </tr>\n",
       "    <tr>\n",
       "      <th>559</th>\n",
       "      <td>Yes</td>\n",
       "      <td>Premier Liga</td>\n",
       "      <td>24</td>\n",
       "      <td>1.82</td>\n",
       "      <td>Midfielder</td>\n",
       "      <td>left</td>\n",
       "      <td>No</td>\n",
       "      <td>adidas</td>\n",
       "      <td>Yes</td>\n",
       "      <td>UEFA</td>\n",
       "      <td>0</td>\n",
       "      <td>16000000.0</td>\n",
       "      <td>0</td>\n",
       "      <td>25</td>\n",
       "    </tr>\n",
       "  </tbody>\n",
       "</table>\n",
       "</div>"
      ],
      "text/plain": [
       "     Champions League        League  Age  Height (meters)     Position   Foot  \\\n",
       "1119               No       Ligue 1   21             1.74     Forward   right   \n",
       "2734               No       Ligue 1   25             1.77  Midfielder   right   \n",
       "1798               No       Serie A   24             1.87    Defender    left   \n",
       "481                No       Serie A   25             1.74  Midfielder   right   \n",
       "559               Yes  Premier Liga   24             1.82  Midfielder    left   \n",
       "\n",
       "     Agent Yes/No PlayerSponsor Nation/League Continent  2018/19 Games Played  \\\n",
       "1119          Yes         Other           Yes      UEFA                    35   \n",
       "2734          Yes         Other            No       CAF                    33   \n",
       "1798          Yes         Other            No      UEFA                     3   \n",
       "481           Yes         Other           Yes      UEFA                    33   \n",
       "559            No        adidas           Yes      UEFA                     0   \n",
       "\n",
       "      Highest Market Value (Euros)  Years Since Peak  NationalTeamCaps  \n",
       "1119                     7500000.0                 0                 2  \n",
       "2734                     1000000.0                 0                 1  \n",
       "1798                     4000000.0                 1                 8  \n",
       "481                       100000.0                 0                 1  \n",
       "559                     16000000.0                 0                25  "
      ]
     },
     "execution_count": 13,
     "metadata": {},
     "output_type": "execute_result"
    }
   ],
   "source": [
    "x_soccer1.head()"
   ]
  },
  {
   "cell_type": "code",
   "execution_count": 14,
   "metadata": {},
   "outputs": [
    {
     "data": {
      "text/plain": [
       "1119     7500000.0\n",
       "2734     1000000.0\n",
       "1798     3500000.0\n",
       "481     18000000.0\n",
       "559     16000000.0\n",
       "Name: Market Value (Euros), dtype: float64"
      ]
     },
     "execution_count": 14,
     "metadata": {},
     "output_type": "execute_result"
    }
   ],
   "source": [
    "y_soccer1.head()"
   ]
  },
  {
   "cell_type": "code",
   "execution_count": 15,
   "metadata": {},
   "outputs": [
    {
     "data": {
      "text/html": [
       "<div>\n",
       "<style scoped>\n",
       "    .dataframe tbody tr th:only-of-type {\n",
       "        vertical-align: middle;\n",
       "    }\n",
       "\n",
       "    .dataframe tbody tr th {\n",
       "        vertical-align: top;\n",
       "    }\n",
       "\n",
       "    .dataframe thead th {\n",
       "        text-align: right;\n",
       "    }\n",
       "</style>\n",
       "<table border=\"1\" class=\"dataframe\">\n",
       "  <thead>\n",
       "    <tr style=\"text-align: right;\">\n",
       "      <th></th>\n",
       "      <th>Age</th>\n",
       "      <th>Height (meters)</th>\n",
       "      <th>2018/19 Games Played</th>\n",
       "      <th>Highest Market Value (Euros)</th>\n",
       "      <th>Years Since Peak</th>\n",
       "      <th>NationalTeamCaps</th>\n",
       "      <th>Champions League_No</th>\n",
       "      <th>Champions League_Yes</th>\n",
       "      <th>League_Bundesliga</th>\n",
       "      <th>League_Eredivisie</th>\n",
       "      <th>...</th>\n",
       "      <th>PlayerSponsor_Puma</th>\n",
       "      <th>PlayerSponsor_adidas</th>\n",
       "      <th>Nation/League_No</th>\n",
       "      <th>Nation/League_Yes</th>\n",
       "      <th>Continent_AFC</th>\n",
       "      <th>Continent_CAF</th>\n",
       "      <th>Continent_CONCACAF</th>\n",
       "      <th>Continent_CONMEBOL</th>\n",
       "      <th>Continent_OFC</th>\n",
       "      <th>Continent_UEFA</th>\n",
       "    </tr>\n",
       "  </thead>\n",
       "  <tbody>\n",
       "    <tr>\n",
       "      <th>1119</th>\n",
       "      <td>21</td>\n",
       "      <td>1.74</td>\n",
       "      <td>35</td>\n",
       "      <td>7500000.0</td>\n",
       "      <td>0</td>\n",
       "      <td>2</td>\n",
       "      <td>1</td>\n",
       "      <td>0</td>\n",
       "      <td>0</td>\n",
       "      <td>0</td>\n",
       "      <td>...</td>\n",
       "      <td>0</td>\n",
       "      <td>0</td>\n",
       "      <td>0</td>\n",
       "      <td>1</td>\n",
       "      <td>0</td>\n",
       "      <td>0</td>\n",
       "      <td>0</td>\n",
       "      <td>0</td>\n",
       "      <td>0</td>\n",
       "      <td>1</td>\n",
       "    </tr>\n",
       "    <tr>\n",
       "      <th>2734</th>\n",
       "      <td>25</td>\n",
       "      <td>1.77</td>\n",
       "      <td>33</td>\n",
       "      <td>1000000.0</td>\n",
       "      <td>0</td>\n",
       "      <td>1</td>\n",
       "      <td>1</td>\n",
       "      <td>0</td>\n",
       "      <td>0</td>\n",
       "      <td>0</td>\n",
       "      <td>...</td>\n",
       "      <td>0</td>\n",
       "      <td>0</td>\n",
       "      <td>1</td>\n",
       "      <td>0</td>\n",
       "      <td>0</td>\n",
       "      <td>1</td>\n",
       "      <td>0</td>\n",
       "      <td>0</td>\n",
       "      <td>0</td>\n",
       "      <td>0</td>\n",
       "    </tr>\n",
       "    <tr>\n",
       "      <th>1798</th>\n",
       "      <td>24</td>\n",
       "      <td>1.87</td>\n",
       "      <td>3</td>\n",
       "      <td>4000000.0</td>\n",
       "      <td>1</td>\n",
       "      <td>8</td>\n",
       "      <td>1</td>\n",
       "      <td>0</td>\n",
       "      <td>0</td>\n",
       "      <td>0</td>\n",
       "      <td>...</td>\n",
       "      <td>0</td>\n",
       "      <td>0</td>\n",
       "      <td>1</td>\n",
       "      <td>0</td>\n",
       "      <td>0</td>\n",
       "      <td>0</td>\n",
       "      <td>0</td>\n",
       "      <td>0</td>\n",
       "      <td>0</td>\n",
       "      <td>1</td>\n",
       "    </tr>\n",
       "    <tr>\n",
       "      <th>481</th>\n",
       "      <td>25</td>\n",
       "      <td>1.74</td>\n",
       "      <td>33</td>\n",
       "      <td>100000.0</td>\n",
       "      <td>0</td>\n",
       "      <td>1</td>\n",
       "      <td>1</td>\n",
       "      <td>0</td>\n",
       "      <td>0</td>\n",
       "      <td>0</td>\n",
       "      <td>...</td>\n",
       "      <td>0</td>\n",
       "      <td>0</td>\n",
       "      <td>0</td>\n",
       "      <td>1</td>\n",
       "      <td>0</td>\n",
       "      <td>0</td>\n",
       "      <td>0</td>\n",
       "      <td>0</td>\n",
       "      <td>0</td>\n",
       "      <td>1</td>\n",
       "    </tr>\n",
       "    <tr>\n",
       "      <th>559</th>\n",
       "      <td>24</td>\n",
       "      <td>1.82</td>\n",
       "      <td>0</td>\n",
       "      <td>16000000.0</td>\n",
       "      <td>0</td>\n",
       "      <td>25</td>\n",
       "      <td>0</td>\n",
       "      <td>1</td>\n",
       "      <td>0</td>\n",
       "      <td>0</td>\n",
       "      <td>...</td>\n",
       "      <td>0</td>\n",
       "      <td>1</td>\n",
       "      <td>0</td>\n",
       "      <td>1</td>\n",
       "      <td>0</td>\n",
       "      <td>0</td>\n",
       "      <td>0</td>\n",
       "      <td>0</td>\n",
       "      <td>0</td>\n",
       "      <td>1</td>\n",
       "    </tr>\n",
       "  </tbody>\n",
       "</table>\n",
       "<p>5 rows × 39 columns</p>\n",
       "</div>"
      ],
      "text/plain": [
       "      Age  Height (meters)  2018/19 Games Played  \\\n",
       "1119   21             1.74                    35   \n",
       "2734   25             1.77                    33   \n",
       "1798   24             1.87                     3   \n",
       "481    25             1.74                    33   \n",
       "559    24             1.82                     0   \n",
       "\n",
       "      Highest Market Value (Euros)  Years Since Peak  NationalTeamCaps  \\\n",
       "1119                     7500000.0                 0                 2   \n",
       "2734                     1000000.0                 0                 1   \n",
       "1798                     4000000.0                 1                 8   \n",
       "481                       100000.0                 0                 1   \n",
       "559                     16000000.0                 0                25   \n",
       "\n",
       "      Champions League_No  Champions League_Yes  League_Bundesliga  \\\n",
       "1119                    1                     0                  0   \n",
       "2734                    1                     0                  0   \n",
       "1798                    1                     0                  0   \n",
       "481                     1                     0                  0   \n",
       "559                     0                     1                  0   \n",
       "\n",
       "      League_Eredivisie  ...  PlayerSponsor_Puma  PlayerSponsor_adidas  \\\n",
       "1119                  0  ...                   0                     0   \n",
       "2734                  0  ...                   0                     0   \n",
       "1798                  0  ...                   0                     0   \n",
       "481                   0  ...                   0                     0   \n",
       "559                   0  ...                   0                     1   \n",
       "\n",
       "      Nation/League_No  Nation/League_Yes  Continent_AFC  Continent_CAF  \\\n",
       "1119                 0                  1              0              0   \n",
       "2734                 1                  0              0              1   \n",
       "1798                 1                  0              0              0   \n",
       "481                  0                  1              0              0   \n",
       "559                  0                  1              0              0   \n",
       "\n",
       "      Continent_CONCACAF  Continent_CONMEBOL  Continent_OFC  Continent_UEFA  \n",
       "1119                   0                   0              0               1  \n",
       "2734                   0                   0              0               0  \n",
       "1798                   0                   0              0               1  \n",
       "481                    0                   0              0               1  \n",
       "559                    0                   0              0               1  \n",
       "\n",
       "[5 rows x 39 columns]"
      ]
     },
     "execution_count": 15,
     "metadata": {},
     "output_type": "execute_result"
    }
   ],
   "source": [
    "# encoding dummy variables\n",
    "x_dummies=pd.get_dummies(x_soccer1)\n",
    "x_dummies.head()"
   ]
  },
  {
   "cell_type": "code",
   "execution_count": 16,
   "metadata": {},
   "outputs": [
    {
     "data": {
      "text/plain": [
       "(4041, 39)"
      ]
     },
     "execution_count": 16,
     "metadata": {},
     "output_type": "execute_result"
    }
   ],
   "source": [
    "x_dummies.shape"
   ]
  },
  {
   "cell_type": "code",
   "execution_count": 17,
   "metadata": {},
   "outputs": [
    {
     "data": {
      "text/plain": [
       "Index(['Age', 'Height (meters)', '2018/19 Games Played',\n",
       "       'Highest Market Value (Euros)', 'Years Since Peak', 'NationalTeamCaps',\n",
       "       'Champions League_No', 'Champions League_Yes', 'League_Bundesliga',\n",
       "       'League_Eredivisie', 'League_Jupiler Pro League', 'League_LaLiga',\n",
       "       'League_Liga NOS', 'League_Ligue 1', 'League_Premier League',\n",
       "       'League_Premier Liga', 'League_Serie A', 'Position_Defender ',\n",
       "       'Position_Forward ', 'Position_Goalkeeper', 'Position_Midfielder ',\n",
       "       'Foot_both', 'Foot_left', 'Foot_right', 'Agent Yes/No_No',\n",
       "       'Agent Yes/No_Yes', 'PlayerSponsor_Nike', 'PlayerSponsor_None',\n",
       "       'PlayerSponsor_Other', 'PlayerSponsor_Puma', 'PlayerSponsor_adidas',\n",
       "       'Nation/League_No', 'Nation/League_Yes', 'Continent_AFC',\n",
       "       'Continent_CAF', 'Continent_CONCACAF', 'Continent_CONMEBOL',\n",
       "       'Continent_OFC', 'Continent_UEFA'],\n",
       "      dtype='object')"
      ]
     },
     "execution_count": 17,
     "metadata": {},
     "output_type": "execute_result"
    }
   ],
   "source": [
    "x_dummies.columns"
   ]
  },
  {
   "cell_type": "markdown",
   "metadata": {},
   "source": [
    "# Descriptive Analysis"
   ]
  },
  {
   "cell_type": "code",
   "execution_count": 18,
   "metadata": {},
   "outputs": [
    {
     "data": {
      "text/html": [
       "<div>\n",
       "<style scoped>\n",
       "    .dataframe tbody tr th:only-of-type {\n",
       "        vertical-align: middle;\n",
       "    }\n",
       "\n",
       "    .dataframe tbody tr th {\n",
       "        vertical-align: top;\n",
       "    }\n",
       "\n",
       "    .dataframe thead th {\n",
       "        text-align: right;\n",
       "    }\n",
       "</style>\n",
       "<table border=\"1\" class=\"dataframe\">\n",
       "  <thead>\n",
       "    <tr style=\"text-align: right;\">\n",
       "      <th></th>\n",
       "      <th>Age</th>\n",
       "      <th>Height (meters)</th>\n",
       "      <th>2018/19 Games Played</th>\n",
       "      <th>Market Value (Euros)</th>\n",
       "      <th>Highest Market Value (Euros)</th>\n",
       "      <th>Years Since Peak</th>\n",
       "      <th>NationalTeamCaps</th>\n",
       "    </tr>\n",
       "  </thead>\n",
       "  <tbody>\n",
       "    <tr>\n",
       "      <th>count</th>\n",
       "      <td>4041.000000</td>\n",
       "      <td>4041.000000</td>\n",
       "      <td>4041.000000</td>\n",
       "      <td>4.041000e+03</td>\n",
       "      <td>4.041000e+03</td>\n",
       "      <td>4041.000000</td>\n",
       "      <td>4041.000000</td>\n",
       "    </tr>\n",
       "    <tr>\n",
       "      <th>mean</th>\n",
       "      <td>25.647117</td>\n",
       "      <td>1.826043</td>\n",
       "      <td>16.475872</td>\n",
       "      <td>8.080358e+06</td>\n",
       "      <td>8.963982e+06</td>\n",
       "      <td>1.538233</td>\n",
       "      <td>11.769611</td>\n",
       "    </tr>\n",
       "    <tr>\n",
       "      <th>std</th>\n",
       "      <td>4.360000</td>\n",
       "      <td>0.066506</td>\n",
       "      <td>13.277390</td>\n",
       "      <td>1.508075e+07</td>\n",
       "      <td>1.646253e+07</td>\n",
       "      <td>2.476940</td>\n",
       "      <td>20.550207</td>\n",
       "    </tr>\n",
       "    <tr>\n",
       "      <th>min</th>\n",
       "      <td>16.000000</td>\n",
       "      <td>1.590000</td>\n",
       "      <td>0.000000</td>\n",
       "      <td>2.500000e+04</td>\n",
       "      <td>2.500000e+04</td>\n",
       "      <td>0.000000</td>\n",
       "      <td>0.000000</td>\n",
       "    </tr>\n",
       "    <tr>\n",
       "      <th>25%</th>\n",
       "      <td>22.000000</td>\n",
       "      <td>1.780000</td>\n",
       "      <td>0.000000</td>\n",
       "      <td>8.000000e+05</td>\n",
       "      <td>9.000000e+05</td>\n",
       "      <td>0.000000</td>\n",
       "      <td>0.000000</td>\n",
       "    </tr>\n",
       "    <tr>\n",
       "      <th>50%</th>\n",
       "      <td>25.000000</td>\n",
       "      <td>1.830000</td>\n",
       "      <td>17.000000</td>\n",
       "      <td>2.500000e+06</td>\n",
       "      <td>3.000000e+06</td>\n",
       "      <td>0.000000</td>\n",
       "      <td>3.000000</td>\n",
       "    </tr>\n",
       "    <tr>\n",
       "      <th>75%</th>\n",
       "      <td>29.000000</td>\n",
       "      <td>1.870000</td>\n",
       "      <td>29.000000</td>\n",
       "      <td>8.000000e+06</td>\n",
       "      <td>1.000000e+07</td>\n",
       "      <td>2.000000</td>\n",
       "      <td>13.000000</td>\n",
       "    </tr>\n",
       "    <tr>\n",
       "      <th>max</th>\n",
       "      <td>42.000000</td>\n",
       "      <td>2.040000</td>\n",
       "      <td>46.000000</td>\n",
       "      <td>2.000000e+08</td>\n",
       "      <td>2.000000e+08</td>\n",
       "      <td>15.000000</td>\n",
       "      <td>176.000000</td>\n",
       "    </tr>\n",
       "  </tbody>\n",
       "</table>\n",
       "</div>"
      ],
      "text/plain": [
       "               Age  Height (meters)  2018/19 Games Played  \\\n",
       "count  4041.000000      4041.000000           4041.000000   \n",
       "mean     25.647117         1.826043             16.475872   \n",
       "std       4.360000         0.066506             13.277390   \n",
       "min      16.000000         1.590000              0.000000   \n",
       "25%      22.000000         1.780000              0.000000   \n",
       "50%      25.000000         1.830000             17.000000   \n",
       "75%      29.000000         1.870000             29.000000   \n",
       "max      42.000000         2.040000             46.000000   \n",
       "\n",
       "       Market Value (Euros)  Highest Market Value (Euros)  Years Since Peak  \\\n",
       "count          4.041000e+03                  4.041000e+03       4041.000000   \n",
       "mean           8.080358e+06                  8.963982e+06          1.538233   \n",
       "std            1.508075e+07                  1.646253e+07          2.476940   \n",
       "min            2.500000e+04                  2.500000e+04          0.000000   \n",
       "25%            8.000000e+05                  9.000000e+05          0.000000   \n",
       "50%            2.500000e+06                  3.000000e+06          0.000000   \n",
       "75%            8.000000e+06                  1.000000e+07          2.000000   \n",
       "max            2.000000e+08                  2.000000e+08         15.000000   \n",
       "\n",
       "       NationalTeamCaps  \n",
       "count       4041.000000  \n",
       "mean          11.769611  \n",
       "std           20.550207  \n",
       "min            0.000000  \n",
       "25%            0.000000  \n",
       "50%            3.000000  \n",
       "75%           13.000000  \n",
       "max          176.000000  "
      ]
     },
     "execution_count": 18,
     "metadata": {},
     "output_type": "execute_result"
    }
   ],
   "source": [
    "soccer1.describe()"
   ]
  },
  {
   "cell_type": "code",
   "execution_count": 19,
   "metadata": {},
   "outputs": [
    {
     "data": {
      "text/html": [
       "<div>\n",
       "<style scoped>\n",
       "    .dataframe tbody tr th:only-of-type {\n",
       "        vertical-align: middle;\n",
       "    }\n",
       "\n",
       "    .dataframe tbody tr th {\n",
       "        vertical-align: top;\n",
       "    }\n",
       "\n",
       "    .dataframe thead th {\n",
       "        text-align: right;\n",
       "    }\n",
       "</style>\n",
       "<table border=\"1\" class=\"dataframe\">\n",
       "  <thead>\n",
       "    <tr style=\"text-align: right;\">\n",
       "      <th></th>\n",
       "      <th>Age</th>\n",
       "      <th>Height (meters)</th>\n",
       "      <th>2018/19 Games Played</th>\n",
       "      <th>Highest Market Value (Euros)</th>\n",
       "      <th>Years Since Peak</th>\n",
       "      <th>NationalTeamCaps</th>\n",
       "      <th>Champions League_No</th>\n",
       "      <th>Champions League_Yes</th>\n",
       "      <th>League_Bundesliga</th>\n",
       "      <th>League_Eredivisie</th>\n",
       "      <th>...</th>\n",
       "      <th>PlayerSponsor_Puma</th>\n",
       "      <th>PlayerSponsor_adidas</th>\n",
       "      <th>Nation/League_No</th>\n",
       "      <th>Nation/League_Yes</th>\n",
       "      <th>Continent_AFC</th>\n",
       "      <th>Continent_CAF</th>\n",
       "      <th>Continent_CONCACAF</th>\n",
       "      <th>Continent_CONMEBOL</th>\n",
       "      <th>Continent_OFC</th>\n",
       "      <th>Continent_UEFA</th>\n",
       "    </tr>\n",
       "  </thead>\n",
       "  <tbody>\n",
       "    <tr>\n",
       "      <th>count</th>\n",
       "      <td>4041.000000</td>\n",
       "      <td>4041.000000</td>\n",
       "      <td>4041.000000</td>\n",
       "      <td>4.041000e+03</td>\n",
       "      <td>4041.000000</td>\n",
       "      <td>4041.000000</td>\n",
       "      <td>4041.000000</td>\n",
       "      <td>4041.000000</td>\n",
       "      <td>4041.000000</td>\n",
       "      <td>4041.00000</td>\n",
       "      <td>...</td>\n",
       "      <td>4041.000000</td>\n",
       "      <td>4041.000000</td>\n",
       "      <td>4041.000000</td>\n",
       "      <td>4041.000000</td>\n",
       "      <td>4041.000000</td>\n",
       "      <td>4041.000000</td>\n",
       "      <td>4041.000000</td>\n",
       "      <td>4041.000000</td>\n",
       "      <td>4041.000000</td>\n",
       "      <td>4041.000000</td>\n",
       "    </tr>\n",
       "    <tr>\n",
       "      <th>mean</th>\n",
       "      <td>25.647117</td>\n",
       "      <td>1.826043</td>\n",
       "      <td>16.475872</td>\n",
       "      <td>8.963982e+06</td>\n",
       "      <td>1.538233</td>\n",
       "      <td>11.769611</td>\n",
       "      <td>0.845335</td>\n",
       "      <td>0.154665</td>\n",
       "      <td>0.127691</td>\n",
       "      <td>0.10344</td>\n",
       "      <td>...</td>\n",
       "      <td>0.021282</td>\n",
       "      <td>0.111111</td>\n",
       "      <td>0.522148</td>\n",
       "      <td>0.477852</td>\n",
       "      <td>0.015838</td>\n",
       "      <td>0.091561</td>\n",
       "      <td>0.015838</td>\n",
       "      <td>0.117298</td>\n",
       "      <td>0.001237</td>\n",
       "      <td>0.758228</td>\n",
       "    </tr>\n",
       "    <tr>\n",
       "      <th>std</th>\n",
       "      <td>4.360000</td>\n",
       "      <td>0.066506</td>\n",
       "      <td>13.277390</td>\n",
       "      <td>1.646253e+07</td>\n",
       "      <td>2.476940</td>\n",
       "      <td>20.550207</td>\n",
       "      <td>0.361629</td>\n",
       "      <td>0.361629</td>\n",
       "      <td>0.333787</td>\n",
       "      <td>0.30457</td>\n",
       "      <td>...</td>\n",
       "      <td>0.144340</td>\n",
       "      <td>0.314309</td>\n",
       "      <td>0.499571</td>\n",
       "      <td>0.499571</td>\n",
       "      <td>0.124863</td>\n",
       "      <td>0.288442</td>\n",
       "      <td>0.124863</td>\n",
       "      <td>0.321815</td>\n",
       "      <td>0.035158</td>\n",
       "      <td>0.428210</td>\n",
       "    </tr>\n",
       "    <tr>\n",
       "      <th>min</th>\n",
       "      <td>16.000000</td>\n",
       "      <td>1.590000</td>\n",
       "      <td>0.000000</td>\n",
       "      <td>2.500000e+04</td>\n",
       "      <td>0.000000</td>\n",
       "      <td>0.000000</td>\n",
       "      <td>0.000000</td>\n",
       "      <td>0.000000</td>\n",
       "      <td>0.000000</td>\n",
       "      <td>0.00000</td>\n",
       "      <td>...</td>\n",
       "      <td>0.000000</td>\n",
       "      <td>0.000000</td>\n",
       "      <td>0.000000</td>\n",
       "      <td>0.000000</td>\n",
       "      <td>0.000000</td>\n",
       "      <td>0.000000</td>\n",
       "      <td>0.000000</td>\n",
       "      <td>0.000000</td>\n",
       "      <td>0.000000</td>\n",
       "      <td>0.000000</td>\n",
       "    </tr>\n",
       "    <tr>\n",
       "      <th>25%</th>\n",
       "      <td>22.000000</td>\n",
       "      <td>1.780000</td>\n",
       "      <td>0.000000</td>\n",
       "      <td>9.000000e+05</td>\n",
       "      <td>0.000000</td>\n",
       "      <td>0.000000</td>\n",
       "      <td>1.000000</td>\n",
       "      <td>0.000000</td>\n",
       "      <td>0.000000</td>\n",
       "      <td>0.00000</td>\n",
       "      <td>...</td>\n",
       "      <td>0.000000</td>\n",
       "      <td>0.000000</td>\n",
       "      <td>0.000000</td>\n",
       "      <td>0.000000</td>\n",
       "      <td>0.000000</td>\n",
       "      <td>0.000000</td>\n",
       "      <td>0.000000</td>\n",
       "      <td>0.000000</td>\n",
       "      <td>0.000000</td>\n",
       "      <td>1.000000</td>\n",
       "    </tr>\n",
       "    <tr>\n",
       "      <th>50%</th>\n",
       "      <td>25.000000</td>\n",
       "      <td>1.830000</td>\n",
       "      <td>17.000000</td>\n",
       "      <td>3.000000e+06</td>\n",
       "      <td>0.000000</td>\n",
       "      <td>3.000000</td>\n",
       "      <td>1.000000</td>\n",
       "      <td>0.000000</td>\n",
       "      <td>0.000000</td>\n",
       "      <td>0.00000</td>\n",
       "      <td>...</td>\n",
       "      <td>0.000000</td>\n",
       "      <td>0.000000</td>\n",
       "      <td>1.000000</td>\n",
       "      <td>0.000000</td>\n",
       "      <td>0.000000</td>\n",
       "      <td>0.000000</td>\n",
       "      <td>0.000000</td>\n",
       "      <td>0.000000</td>\n",
       "      <td>0.000000</td>\n",
       "      <td>1.000000</td>\n",
       "    </tr>\n",
       "    <tr>\n",
       "      <th>75%</th>\n",
       "      <td>29.000000</td>\n",
       "      <td>1.870000</td>\n",
       "      <td>29.000000</td>\n",
       "      <td>1.000000e+07</td>\n",
       "      <td>2.000000</td>\n",
       "      <td>13.000000</td>\n",
       "      <td>1.000000</td>\n",
       "      <td>0.000000</td>\n",
       "      <td>0.000000</td>\n",
       "      <td>0.00000</td>\n",
       "      <td>...</td>\n",
       "      <td>0.000000</td>\n",
       "      <td>0.000000</td>\n",
       "      <td>1.000000</td>\n",
       "      <td>1.000000</td>\n",
       "      <td>0.000000</td>\n",
       "      <td>0.000000</td>\n",
       "      <td>0.000000</td>\n",
       "      <td>0.000000</td>\n",
       "      <td>0.000000</td>\n",
       "      <td>1.000000</td>\n",
       "    </tr>\n",
       "    <tr>\n",
       "      <th>max</th>\n",
       "      <td>42.000000</td>\n",
       "      <td>2.040000</td>\n",
       "      <td>46.000000</td>\n",
       "      <td>2.000000e+08</td>\n",
       "      <td>15.000000</td>\n",
       "      <td>176.000000</td>\n",
       "      <td>1.000000</td>\n",
       "      <td>1.000000</td>\n",
       "      <td>1.000000</td>\n",
       "      <td>1.00000</td>\n",
       "      <td>...</td>\n",
       "      <td>1.000000</td>\n",
       "      <td>1.000000</td>\n",
       "      <td>1.000000</td>\n",
       "      <td>1.000000</td>\n",
       "      <td>1.000000</td>\n",
       "      <td>1.000000</td>\n",
       "      <td>1.000000</td>\n",
       "      <td>1.000000</td>\n",
       "      <td>1.000000</td>\n",
       "      <td>1.000000</td>\n",
       "    </tr>\n",
       "  </tbody>\n",
       "</table>\n",
       "<p>8 rows × 39 columns</p>\n",
       "</div>"
      ],
      "text/plain": [
       "               Age  Height (meters)  2018/19 Games Played  \\\n",
       "count  4041.000000      4041.000000           4041.000000   \n",
       "mean     25.647117         1.826043             16.475872   \n",
       "std       4.360000         0.066506             13.277390   \n",
       "min      16.000000         1.590000              0.000000   \n",
       "25%      22.000000         1.780000              0.000000   \n",
       "50%      25.000000         1.830000             17.000000   \n",
       "75%      29.000000         1.870000             29.000000   \n",
       "max      42.000000         2.040000             46.000000   \n",
       "\n",
       "       Highest Market Value (Euros)  Years Since Peak  NationalTeamCaps  \\\n",
       "count                  4.041000e+03       4041.000000       4041.000000   \n",
       "mean                   8.963982e+06          1.538233         11.769611   \n",
       "std                    1.646253e+07          2.476940         20.550207   \n",
       "min                    2.500000e+04          0.000000          0.000000   \n",
       "25%                    9.000000e+05          0.000000          0.000000   \n",
       "50%                    3.000000e+06          0.000000          3.000000   \n",
       "75%                    1.000000e+07          2.000000         13.000000   \n",
       "max                    2.000000e+08         15.000000        176.000000   \n",
       "\n",
       "       Champions League_No  Champions League_Yes  League_Bundesliga  \\\n",
       "count          4041.000000           4041.000000        4041.000000   \n",
       "mean              0.845335              0.154665           0.127691   \n",
       "std               0.361629              0.361629           0.333787   \n",
       "min               0.000000              0.000000           0.000000   \n",
       "25%               1.000000              0.000000           0.000000   \n",
       "50%               1.000000              0.000000           0.000000   \n",
       "75%               1.000000              0.000000           0.000000   \n",
       "max               1.000000              1.000000           1.000000   \n",
       "\n",
       "       League_Eredivisie  ...  PlayerSponsor_Puma  PlayerSponsor_adidas  \\\n",
       "count         4041.00000  ...         4041.000000           4041.000000   \n",
       "mean             0.10344  ...            0.021282              0.111111   \n",
       "std              0.30457  ...            0.144340              0.314309   \n",
       "min              0.00000  ...            0.000000              0.000000   \n",
       "25%              0.00000  ...            0.000000              0.000000   \n",
       "50%              0.00000  ...            0.000000              0.000000   \n",
       "75%              0.00000  ...            0.000000              0.000000   \n",
       "max              1.00000  ...            1.000000              1.000000   \n",
       "\n",
       "       Nation/League_No  Nation/League_Yes  Continent_AFC  Continent_CAF  \\\n",
       "count       4041.000000        4041.000000    4041.000000    4041.000000   \n",
       "mean           0.522148           0.477852       0.015838       0.091561   \n",
       "std            0.499571           0.499571       0.124863       0.288442   \n",
       "min            0.000000           0.000000       0.000000       0.000000   \n",
       "25%            0.000000           0.000000       0.000000       0.000000   \n",
       "50%            1.000000           0.000000       0.000000       0.000000   \n",
       "75%            1.000000           1.000000       0.000000       0.000000   \n",
       "max            1.000000           1.000000       1.000000       1.000000   \n",
       "\n",
       "       Continent_CONCACAF  Continent_CONMEBOL  Continent_OFC  Continent_UEFA  \n",
       "count         4041.000000         4041.000000    4041.000000     4041.000000  \n",
       "mean             0.015838            0.117298       0.001237        0.758228  \n",
       "std              0.124863            0.321815       0.035158        0.428210  \n",
       "min              0.000000            0.000000       0.000000        0.000000  \n",
       "25%              0.000000            0.000000       0.000000        1.000000  \n",
       "50%              0.000000            0.000000       0.000000        1.000000  \n",
       "75%              0.000000            0.000000       0.000000        1.000000  \n",
       "max              1.000000            1.000000       1.000000        1.000000  \n",
       "\n",
       "[8 rows x 39 columns]"
      ]
     },
     "execution_count": 19,
     "metadata": {},
     "output_type": "execute_result"
    }
   ],
   "source": [
    "x_dummies.describe()"
   ]
  },
  {
   "cell_type": "markdown",
   "metadata": {},
   "source": [
    "# Predictive Models"
   ]
  },
  {
   "cell_type": "code",
   "execution_count": 25,
   "metadata": {},
   "outputs": [],
   "source": [
    "#splitting into train and test sets\n",
    "X_train, X_test, y_train, y_test= train_test_split(x_dummies, y_soccer1, random_state=0, test_size=.2)"
   ]
  },
  {
   "cell_type": "markdown",
   "metadata": {},
   "source": [
    "## k-NN Regression"
   ]
  },
  {
   "cell_type": "code",
   "execution_count": 26,
   "metadata": {},
   "outputs": [
    {
     "name": "stdout",
     "output_type": "stream",
     "text": [
      "train scores:  [0.96637561 0.95460112 0.94718689 0.94036028 0.93554984 0.92726844]\n",
      "test scores:  [0.89741405 0.90602516 0.90825177 0.90937612 0.90894904 0.90678256]\n",
      "neighbors range:  [2, 3, 4, 5, 6, 8]\n"
     ]
    }
   ],
   "source": [
    "# validation curve\n",
    "neighbors_range=[2,3,4,5,6,8]\n",
    "knn_train_scores, knn_test_scores=validation_curve(KNeighborsRegressor(),x_dummies,y_soccer1,param_name='n_neighbors',param_range=neighbors_range, cv=4)\n",
    "print('train scores: ',knn_train_scores.mean(axis=1))\n",
    "print('test scores: ',knn_test_scores.mean(axis=1))\n",
    "print('neighbors range: ',neighbors_range)"
   ]
  },
  {
   "cell_type": "code",
   "execution_count": 27,
   "metadata": {},
   "outputs": [
    {
     "data": {
      "text/plain": [
       "KNeighborsRegressor()"
      ]
     },
     "execution_count": 27,
     "metadata": {},
     "output_type": "execute_result"
    }
   ],
   "source": [
    "#defining and fitting the model KNN\n",
    "knn_reg=KNeighborsRegressor(n_neighbors=5)\n",
    "knn_reg.fit(X_train,y_train)"
   ]
  },
  {
   "cell_type": "code",
   "execution_count": 28,
   "metadata": {},
   "outputs": [
    {
     "name": "stdout",
     "output_type": "stream",
     "text": [
      "KNN Regression acc on train: 93.75%\n",
      "KNN Regression acc on test: 92.99%\n"
     ]
    }
   ],
   "source": [
    "# evaluating the model\n",
    "print('KNN Regression acc on train: {:.2%}'.format(knn_reg.score(X_train, y_train)))\n",
    "print('KNN Regression acc on test: {:.2%}'.format(knn_reg.score(X_test, y_test)))"
   ]
  },
  {
   "cell_type": "markdown",
   "metadata": {},
   "source": [
    "## Linear Regression"
   ]
  },
  {
   "cell_type": "code",
   "execution_count": 29,
   "metadata": {},
   "outputs": [
    {
     "data": {
      "text/plain": [
       "LinearRegression()"
      ]
     },
     "execution_count": 29,
     "metadata": {},
     "output_type": "execute_result"
    }
   ],
   "source": [
    "# defining and fitting the model linear regression\n",
    "lr=LinearRegression()\n",
    "lr.fit(X_train, y_train)"
   ]
  },
  {
   "cell_type": "code",
   "execution_count": 30,
   "metadata": {},
   "outputs": [
    {
     "name": "stdout",
     "output_type": "stream",
     "text": [
      "LR acc on train: 88.32%\n",
      "LR acc on test: 89.71%\n"
     ]
    }
   ],
   "source": [
    "# evaluating the model\n",
    "print('LR acc on train: {:.2%}'.format(lr.score(X_train, y_train)))\n",
    "print('LR acc on test: {:.2%}'.format(lr.score(X_test, y_test)))"
   ]
  },
  {
   "cell_type": "markdown",
   "metadata": {},
   "source": [
    "## Ridge Regression"
   ]
  },
  {
   "cell_type": "code",
   "execution_count": 31,
   "metadata": {},
   "outputs": [
    {
     "name": "stdout",
     "output_type": "stream",
     "text": [
      "train scores:  [0.8866491  0.88660887 0.8865693  0.88643091 0.8861408 ]\n",
      "test scores:  [0.88278708 0.88292992 0.88298273 0.88301123 0.88289771]\n",
      "alpha range:  [1, 10, 20, 50, 100]\n"
     ]
    },
    {
     "name": "stderr",
     "output_type": "stream",
     "text": [
      "/Users/lydiaschmidtke/opt/anaconda3/lib/python3.8/site-packages/sklearn/linear_model/_ridge.py:147: LinAlgWarning: Ill-conditioned matrix (rcond=1.27087e-18): result may not be accurate.\n",
      "  return linalg.solve(A, Xy, sym_pos=True,\n",
      "/Users/lydiaschmidtke/opt/anaconda3/lib/python3.8/site-packages/sklearn/linear_model/_ridge.py:147: LinAlgWarning: Ill-conditioned matrix (rcond=1.2408e-17): result may not be accurate.\n",
      "  return linalg.solve(A, Xy, sym_pos=True,\n",
      "/Users/lydiaschmidtke/opt/anaconda3/lib/python3.8/site-packages/sklearn/linear_model/_ridge.py:147: LinAlgWarning: Ill-conditioned matrix (rcond=2.4474e-17): result may not be accurate.\n",
      "  return linalg.solve(A, Xy, sym_pos=True,\n",
      "/Users/lydiaschmidtke/opt/anaconda3/lib/python3.8/site-packages/sklearn/linear_model/_ridge.py:147: LinAlgWarning: Ill-conditioned matrix (rcond=5.97809e-17): result may not be accurate.\n",
      "  return linalg.solve(A, Xy, sym_pos=True,\n",
      "/Users/lydiaschmidtke/opt/anaconda3/lib/python3.8/site-packages/sklearn/linear_model/_ridge.py:147: LinAlgWarning: Ill-conditioned matrix (rcond=1.22684e-18): result may not be accurate.\n",
      "  return linalg.solve(A, Xy, sym_pos=True,\n",
      "/Users/lydiaschmidtke/opt/anaconda3/lib/python3.8/site-packages/sklearn/linear_model/_ridge.py:147: LinAlgWarning: Ill-conditioned matrix (rcond=1.1994e-17): result may not be accurate.\n",
      "  return linalg.solve(A, Xy, sym_pos=True,\n",
      "/Users/lydiaschmidtke/opt/anaconda3/lib/python3.8/site-packages/sklearn/linear_model/_ridge.py:147: LinAlgWarning: Ill-conditioned matrix (rcond=2.36811e-17): result may not be accurate.\n",
      "  return linalg.solve(A, Xy, sym_pos=True,\n",
      "/Users/lydiaschmidtke/opt/anaconda3/lib/python3.8/site-packages/sklearn/linear_model/_ridge.py:147: LinAlgWarning: Ill-conditioned matrix (rcond=5.7946e-17): result may not be accurate.\n",
      "  return linalg.solve(A, Xy, sym_pos=True,\n",
      "/Users/lydiaschmidtke/opt/anaconda3/lib/python3.8/site-packages/sklearn/linear_model/_ridge.py:147: LinAlgWarning: Ill-conditioned matrix (rcond=1.14805e-18): result may not be accurate.\n",
      "  return linalg.solve(A, Xy, sym_pos=True,\n",
      "/Users/lydiaschmidtke/opt/anaconda3/lib/python3.8/site-packages/sklearn/linear_model/_ridge.py:147: LinAlgWarning: Ill-conditioned matrix (rcond=1.12076e-17): result may not be accurate.\n",
      "  return linalg.solve(A, Xy, sym_pos=True,\n",
      "/Users/lydiaschmidtke/opt/anaconda3/lib/python3.8/site-packages/sklearn/linear_model/_ridge.py:147: LinAlgWarning: Ill-conditioned matrix (rcond=2.20944e-17): result may not be accurate.\n",
      "  return linalg.solve(A, Xy, sym_pos=True,\n",
      "/Users/lydiaschmidtke/opt/anaconda3/lib/python3.8/site-packages/sklearn/linear_model/_ridge.py:147: LinAlgWarning: Ill-conditioned matrix (rcond=5.38949e-17): result may not be accurate.\n",
      "  return linalg.solve(A, Xy, sym_pos=True,\n",
      "/Users/lydiaschmidtke/opt/anaconda3/lib/python3.8/site-packages/sklearn/linear_model/_ridge.py:147: LinAlgWarning: Ill-conditioned matrix (rcond=1.05491e-16): result may not be accurate.\n",
      "  return linalg.solve(A, Xy, sym_pos=True,\n",
      "/Users/lydiaschmidtke/opt/anaconda3/lib/python3.8/site-packages/sklearn/linear_model/_ridge.py:147: LinAlgWarning: Ill-conditioned matrix (rcond=1.21038e-18): result may not be accurate.\n",
      "  return linalg.solve(A, Xy, sym_pos=True,\n",
      "/Users/lydiaschmidtke/opt/anaconda3/lib/python3.8/site-packages/sklearn/linear_model/_ridge.py:147: LinAlgWarning: Ill-conditioned matrix (rcond=1.18328e-17): result may not be accurate.\n",
      "  return linalg.solve(A, Xy, sym_pos=True,\n",
      "/Users/lydiaschmidtke/opt/anaconda3/lib/python3.8/site-packages/sklearn/linear_model/_ridge.py:147: LinAlgWarning: Ill-conditioned matrix (rcond=2.33566e-17): result may not be accurate.\n",
      "  return linalg.solve(A, Xy, sym_pos=True,\n",
      "/Users/lydiaschmidtke/opt/anaconda3/lib/python3.8/site-packages/sklearn/linear_model/_ridge.py:147: LinAlgWarning: Ill-conditioned matrix (rcond=5.71142e-17): result may not be accurate.\n",
      "  return linalg.solve(A, Xy, sym_pos=True,\n"
     ]
    }
   ],
   "source": [
    "# validation curve\n",
    "ridge_alpha_range=[1,10,20,50,100]\n",
    "ridge_train_scores, ridge_test_scores=validation_curve(Ridge(random_state=0),x_dummies,y_soccer1,param_name='alpha',param_range=ridge_alpha_range, cv=4)\n",
    "print('train scores: ',ridge_train_scores.mean(axis=1))\n",
    "print('test scores: ',ridge_test_scores.mean(axis=1))\n",
    "print('alpha range: ',ridge_alpha_range)"
   ]
  },
  {
   "cell_type": "code",
   "execution_count": 32,
   "metadata": {},
   "outputs": [
    {
     "name": "stderr",
     "output_type": "stream",
     "text": [
      "/Users/lydiaschmidtke/opt/anaconda3/lib/python3.8/site-packages/sklearn/linear_model/_ridge.py:147: LinAlgWarning: Ill-conditioned matrix (rcond=5.37031e-17): result may not be accurate.\n",
      "  return linalg.solve(A, Xy, sym_pos=True,\n"
     ]
    },
    {
     "data": {
      "text/plain": [
       "Ridge(alpha=50, random_state=0)"
      ]
     },
     "execution_count": 32,
     "metadata": {},
     "output_type": "execute_result"
    }
   ],
   "source": [
    "# define and fit the model Ridge\n",
    "ridge=Ridge(alpha=50,random_state=0)\n",
    "ridge.fit(X_train, y_train)"
   ]
  },
  {
   "cell_type": "code",
   "execution_count": 33,
   "metadata": {},
   "outputs": [
    {
     "name": "stdout",
     "output_type": "stream",
     "text": [
      "Ridge R-square on train 88.30%\n",
      "Ridge R-square on test 89.73%\n"
     ]
    }
   ],
   "source": [
    "# evaluate the model\n",
    "print('Ridge R-square on train {:.2%}'.format(ridge.score(X_train, y_train)))\n",
    "print('Ridge R-square on test {:.2%}'.format(ridge.score(X_test, y_test)))"
   ]
  },
  {
   "cell_type": "markdown",
   "metadata": {},
   "source": [
    "## Lasso Regression"
   ]
  },
  {
   "cell_type": "code",
   "execution_count": 34,
   "metadata": {},
   "outputs": [
    {
     "name": "stdout",
     "output_type": "stream",
     "text": [
      "train scores:  [0.88665133 0.88665132 0.88665132 0.88665131 0.88665126]\n",
      "test scores:  [0.88273896 0.88274002 0.88274119 0.88274469 0.8827505 ]\n",
      "alpha range:  [1, 10, 20, 50, 100]\n"
     ]
    }
   ],
   "source": [
    "# validation curve\n",
    "lasso_alpha_range=[1,10,20,50,100]\n",
    "lasso_train_scores, lasso_test_scores=validation_curve(Lasso(max_iter=300000,random_state=0),x_dummies,y_soccer1,param_name='alpha',param_range=lasso_alpha_range, cv=4)\n",
    "print('train scores: ',lasso_train_scores.mean(axis=1))\n",
    "print('test scores: ',lasso_test_scores.mean(axis=1))\n",
    "print('alpha range: ',lasso_alpha_range)"
   ]
  },
  {
   "cell_type": "code",
   "execution_count": 35,
   "metadata": {},
   "outputs": [
    {
     "data": {
      "text/plain": [
       "Lasso(alpha=100, max_iter=300000, random_state=0)"
      ]
     },
     "execution_count": 35,
     "metadata": {},
     "output_type": "execute_result"
    }
   ],
   "source": [
    "# define and fit the model lasso\n",
    "lasso=Lasso(alpha=100, max_iter=300000,random_state=0)\n",
    "lasso.fit(X_train, y_train)"
   ]
  },
  {
   "cell_type": "code",
   "execution_count": 36,
   "metadata": {},
   "outputs": [
    {
     "name": "stdout",
     "output_type": "stream",
     "text": [
      "lass on train 88.32%\n",
      "lass on test 89.71%\n"
     ]
    }
   ],
   "source": [
    "# evaluate performance of model\n",
    "print('lass on train {:.2%}'.format(lasso.score(X_train, y_train)))\n",
    "print('lass on test {:.2%}'.format(lasso.score(X_test, y_test)))"
   ]
  },
  {
   "cell_type": "markdown",
   "metadata": {},
   "source": [
    "## Decision Tree Regression"
   ]
  },
  {
   "cell_type": "code",
   "execution_count": 37,
   "metadata": {},
   "outputs": [
    {
     "name": "stdout",
     "output_type": "stream",
     "text": [
      "train scores:  [0.95810179 0.97086341 0.97930278 0.98463459 0.98884054 0.99264951]\n",
      "test scores:  [0.92526641 0.93017397 0.93158848 0.9270375  0.92316693 0.92527252]\n",
      "max depth range:  [6, 7, 8, 9, 10, 11]\n"
     ]
    }
   ],
   "source": [
    "# validation curve\n",
    "depth_range=[6,7,8,9,10,11]\n",
    "dt_train_scores, dt_test_scores=validation_curve(DecisionTreeRegressor(random_state=0),x_dummies,y_soccer1,param_name='max_depth',param_range=depth_range, cv=4)\n",
    "print('train scores: ',dt_train_scores.mean(axis=1))\n",
    "print('test scores: ',dt_test_scores.mean(axis=1))\n",
    "print('max depth range: ',depth_range)"
   ]
  },
  {
   "cell_type": "code",
   "execution_count": 38,
   "metadata": {},
   "outputs": [
    {
     "data": {
      "text/plain": [
       "DecisionTreeRegressor(max_depth=8, random_state=0)"
      ]
     },
     "execution_count": 38,
     "metadata": {},
     "output_type": "execute_result"
    }
   ],
   "source": [
    "# define and fit the model decision tree\n",
    "dt_reg=DecisionTreeRegressor(random_state=0, max_depth=8)\n",
    "dt_reg.fit(X_train,y_train)"
   ]
  },
  {
   "cell_type": "code",
   "execution_count": 39,
   "metadata": {},
   "outputs": [
    {
     "name": "stdout",
     "output_type": "stream",
     "text": [
      "dt_reg acc on train: 97.65%\n",
      "dt_reg acc on test: 93.46%\n"
     ]
    }
   ],
   "source": [
    "# evaluating the model\n",
    "print('dt_reg acc on train: {:.2%}'.format(dt_reg.score(X_train, y_train)))\n",
    "print('dt_reg acc on test: {:.2%}'.format(dt_reg.score(X_test, y_test)))"
   ]
  },
  {
   "cell_type": "code",
   "execution_count": 40,
   "metadata": {},
   "outputs": [
    {
     "data": {
      "text/html": [
       "<div>\n",
       "<style scoped>\n",
       "    .dataframe tbody tr th:only-of-type {\n",
       "        vertical-align: middle;\n",
       "    }\n",
       "\n",
       "    .dataframe tbody tr th {\n",
       "        vertical-align: top;\n",
       "    }\n",
       "\n",
       "    .dataframe thead th {\n",
       "        text-align: right;\n",
       "    }\n",
       "</style>\n",
       "<table border=\"1\" class=\"dataframe\">\n",
       "  <thead>\n",
       "    <tr style=\"text-align: right;\">\n",
       "      <th></th>\n",
       "      <th>importance</th>\n",
       "    </tr>\n",
       "  </thead>\n",
       "  <tbody>\n",
       "    <tr>\n",
       "      <th>Highest Market Value (Euros)</th>\n",
       "      <td>0.920096</td>\n",
       "    </tr>\n",
       "    <tr>\n",
       "      <th>Years Since Peak</th>\n",
       "      <td>0.038269</td>\n",
       "    </tr>\n",
       "    <tr>\n",
       "      <th>2018/19 Games Played</th>\n",
       "      <td>0.010109</td>\n",
       "    </tr>\n",
       "    <tr>\n",
       "      <th>League_Ligue 1</th>\n",
       "      <td>0.006520</td>\n",
       "    </tr>\n",
       "    <tr>\n",
       "      <th>Position_Forward</th>\n",
       "      <td>0.004476</td>\n",
       "    </tr>\n",
       "    <tr>\n",
       "      <th>Age</th>\n",
       "      <td>0.004007</td>\n",
       "    </tr>\n",
       "    <tr>\n",
       "      <th>PlayerSponsor_None</th>\n",
       "      <td>0.003672</td>\n",
       "    </tr>\n",
       "    <tr>\n",
       "      <th>Champions League_No</th>\n",
       "      <td>0.003156</td>\n",
       "    </tr>\n",
       "    <tr>\n",
       "      <th>NationalTeamCaps</th>\n",
       "      <td>0.001769</td>\n",
       "    </tr>\n",
       "    <tr>\n",
       "      <th>Continent_CONMEBOL</th>\n",
       "      <td>0.001690</td>\n",
       "    </tr>\n",
       "    <tr>\n",
       "      <th>PlayerSponsor_Nike</th>\n",
       "      <td>0.001331</td>\n",
       "    </tr>\n",
       "    <tr>\n",
       "      <th>Height (meters)</th>\n",
       "      <td>0.001262</td>\n",
       "    </tr>\n",
       "    <tr>\n",
       "      <th>Continent_CAF</th>\n",
       "      <td>0.000720</td>\n",
       "    </tr>\n",
       "    <tr>\n",
       "      <th>Foot_right</th>\n",
       "      <td>0.000613</td>\n",
       "    </tr>\n",
       "    <tr>\n",
       "      <th>League_Liga NOS</th>\n",
       "      <td>0.000605</td>\n",
       "    </tr>\n",
       "    <tr>\n",
       "      <th>Nation/League_Yes</th>\n",
       "      <td>0.000400</td>\n",
       "    </tr>\n",
       "    <tr>\n",
       "      <th>PlayerSponsor_Puma</th>\n",
       "      <td>0.000345</td>\n",
       "    </tr>\n",
       "    <tr>\n",
       "      <th>League_Serie A</th>\n",
       "      <td>0.000228</td>\n",
       "    </tr>\n",
       "    <tr>\n",
       "      <th>League_LaLiga</th>\n",
       "      <td>0.000159</td>\n",
       "    </tr>\n",
       "    <tr>\n",
       "      <th>Agent Yes/No_Yes</th>\n",
       "      <td>0.000105</td>\n",
       "    </tr>\n",
       "    <tr>\n",
       "      <th>League_Premier League</th>\n",
       "      <td>0.000103</td>\n",
       "    </tr>\n",
       "    <tr>\n",
       "      <th>Position_Midfielder</th>\n",
       "      <td>0.000102</td>\n",
       "    </tr>\n",
       "    <tr>\n",
       "      <th>Foot_left</th>\n",
       "      <td>0.000101</td>\n",
       "    </tr>\n",
       "    <tr>\n",
       "      <th>Champions League_Yes</th>\n",
       "      <td>0.000046</td>\n",
       "    </tr>\n",
       "    <tr>\n",
       "      <th>PlayerSponsor_adidas</th>\n",
       "      <td>0.000032</td>\n",
       "    </tr>\n",
       "    <tr>\n",
       "      <th>Foot_both</th>\n",
       "      <td>0.000026</td>\n",
       "    </tr>\n",
       "    <tr>\n",
       "      <th>Agent Yes/No_No</th>\n",
       "      <td>0.000020</td>\n",
       "    </tr>\n",
       "    <tr>\n",
       "      <th>Nation/League_No</th>\n",
       "      <td>0.000018</td>\n",
       "    </tr>\n",
       "    <tr>\n",
       "      <th>Continent_UEFA</th>\n",
       "      <td>0.000011</td>\n",
       "    </tr>\n",
       "    <tr>\n",
       "      <th>League_Bundesliga</th>\n",
       "      <td>0.000010</td>\n",
       "    </tr>\n",
       "    <tr>\n",
       "      <th>PlayerSponsor_Other</th>\n",
       "      <td>0.000000</td>\n",
       "    </tr>\n",
       "    <tr>\n",
       "      <th>Position_Defender</th>\n",
       "      <td>0.000000</td>\n",
       "    </tr>\n",
       "    <tr>\n",
       "      <th>League_Premier Liga</th>\n",
       "      <td>0.000000</td>\n",
       "    </tr>\n",
       "    <tr>\n",
       "      <th>League_Jupiler Pro League</th>\n",
       "      <td>0.000000</td>\n",
       "    </tr>\n",
       "    <tr>\n",
       "      <th>Continent_AFC</th>\n",
       "      <td>0.000000</td>\n",
       "    </tr>\n",
       "    <tr>\n",
       "      <th>League_Eredivisie</th>\n",
       "      <td>0.000000</td>\n",
       "    </tr>\n",
       "    <tr>\n",
       "      <th>Continent_CONCACAF</th>\n",
       "      <td>0.000000</td>\n",
       "    </tr>\n",
       "    <tr>\n",
       "      <th>Continent_OFC</th>\n",
       "      <td>0.000000</td>\n",
       "    </tr>\n",
       "    <tr>\n",
       "      <th>Position_Goalkeeper</th>\n",
       "      <td>0.000000</td>\n",
       "    </tr>\n",
       "  </tbody>\n",
       "</table>\n",
       "</div>"
      ],
      "text/plain": [
       "                              importance\n",
       "Highest Market Value (Euros)    0.920096\n",
       "Years Since Peak                0.038269\n",
       "2018/19 Games Played            0.010109\n",
       "League_Ligue 1                  0.006520\n",
       "Position_Forward                0.004476\n",
       "Age                             0.004007\n",
       "PlayerSponsor_None              0.003672\n",
       "Champions League_No             0.003156\n",
       "NationalTeamCaps                0.001769\n",
       "Continent_CONMEBOL              0.001690\n",
       "PlayerSponsor_Nike              0.001331\n",
       "Height (meters)                 0.001262\n",
       "Continent_CAF                   0.000720\n",
       "Foot_right                      0.000613\n",
       "League_Liga NOS                 0.000605\n",
       "Nation/League_Yes               0.000400\n",
       "PlayerSponsor_Puma              0.000345\n",
       "League_Serie A                  0.000228\n",
       "League_LaLiga                   0.000159\n",
       "Agent Yes/No_Yes                0.000105\n",
       "League_Premier League           0.000103\n",
       "Position_Midfielder             0.000102\n",
       "Foot_left                       0.000101\n",
       "Champions League_Yes            0.000046\n",
       "PlayerSponsor_adidas            0.000032\n",
       "Foot_both                       0.000026\n",
       "Agent Yes/No_No                 0.000020\n",
       "Nation/League_No                0.000018\n",
       "Continent_UEFA                  0.000011\n",
       "League_Bundesliga               0.000010\n",
       "PlayerSponsor_Other             0.000000\n",
       "Position_Defender               0.000000\n",
       "League_Premier Liga             0.000000\n",
       "League_Jupiler Pro League       0.000000\n",
       "Continent_AFC                   0.000000\n",
       "League_Eredivisie               0.000000\n",
       "Continent_CONCACAF              0.000000\n",
       "Continent_OFC                   0.000000\n",
       "Position_Goalkeeper             0.000000"
      ]
     },
     "execution_count": 40,
     "metadata": {},
     "output_type": "execute_result"
    }
   ],
   "source": [
    "# decision tree feature importances\n",
    "dt_feat_imp=pd.DataFrame(index=x_dummies.columns, data=dt_reg.feature_importances_,columns=['importance'])\n",
    "dt_feat_imp.sort_values('importance', ascending=False)"
   ]
  },
  {
   "cell_type": "code",
   "execution_count": 41,
   "metadata": {},
   "outputs": [],
   "source": [
    "# exporting the graphviz\n",
    "export_graphviz(dt_reg, out_file='soccer_reg_tree.dot', feature_names=x_dummies.columns,impurity=True, filled=True)"
   ]
  },
  {
   "cell_type": "markdown",
   "metadata": {},
   "source": [
    "## Random Forest Regression"
   ]
  },
  {
   "cell_type": "code",
   "execution_count": 42,
   "metadata": {},
   "outputs": [
    {
     "name": "stdout",
     "output_type": "stream",
     "text": [
      "train scores:  [0.99377203 0.99393205 0.9939085  0.99387843 0.99389639]\n",
      "test scores:  [0.95871417 0.95875655 0.9592309  0.95950715 0.95967964]\n",
      "estimators range:  [200, 300, 400, 500, 600]\n"
     ]
    }
   ],
   "source": [
    "# validation curve\n",
    "estimator_range=[200,300,400,500,600]\n",
    "rf_train_scores, rf_test_scores=validation_curve(RandomForestRegressor(random_state=0),x_dummies,y_soccer1,param_name='n_estimators',param_range=estimator_range, cv=4)\n",
    "print('train scores: ',rf_train_scores.mean(axis=1))\n",
    "print('test scores: ',rf_test_scores.mean(axis=1))\n",
    "print('estimators range: ',estimator_range)"
   ]
  },
  {
   "cell_type": "code",
   "execution_count": 43,
   "metadata": {},
   "outputs": [
    {
     "data": {
      "text/plain": [
       "RandomForestRegressor(n_estimators=600, random_state=0)"
      ]
     },
     "execution_count": 43,
     "metadata": {},
     "output_type": "execute_result"
    }
   ],
   "source": [
    "# define and fit the model random forest\n",
    "rf_reg=RandomForestRegressor(n_estimators=600, random_state=0)\n",
    "rf_reg.fit(X_train,y_train)"
   ]
  },
  {
   "cell_type": "code",
   "execution_count": 44,
   "metadata": {},
   "outputs": [
    {
     "name": "stdout",
     "output_type": "stream",
     "text": [
      "rf_reg acc on train: 99.39%\n",
      "rf_reg acc on test: 96.33%\n"
     ]
    }
   ],
   "source": [
    "# evaluate the model\n",
    "print('rf_reg acc on train: {:.2%}'.format(rf_reg.score(X_train, y_train)))\n",
    "print('rf_reg acc on test: {:.2%}'.format(rf_reg.score(X_test, y_test)))"
   ]
  },
  {
   "cell_type": "code",
   "execution_count": 45,
   "metadata": {},
   "outputs": [
    {
     "data": {
      "text/html": [
       "<div>\n",
       "<style scoped>\n",
       "    .dataframe tbody tr th:only-of-type {\n",
       "        vertical-align: middle;\n",
       "    }\n",
       "\n",
       "    .dataframe tbody tr th {\n",
       "        vertical-align: top;\n",
       "    }\n",
       "\n",
       "    .dataframe thead th {\n",
       "        text-align: right;\n",
       "    }\n",
       "</style>\n",
       "<table border=\"1\" class=\"dataframe\">\n",
       "  <thead>\n",
       "    <tr style=\"text-align: right;\">\n",
       "      <th></th>\n",
       "      <th>importance</th>\n",
       "    </tr>\n",
       "  </thead>\n",
       "  <tbody>\n",
       "    <tr>\n",
       "      <th>Highest Market Value (Euros)</th>\n",
       "      <td>8.985289e-01</td>\n",
       "    </tr>\n",
       "    <tr>\n",
       "      <th>Years Since Peak</th>\n",
       "      <td>3.539236e-02</td>\n",
       "    </tr>\n",
       "    <tr>\n",
       "      <th>2018/19 Games Played</th>\n",
       "      <td>1.807035e-02</td>\n",
       "    </tr>\n",
       "    <tr>\n",
       "      <th>Age</th>\n",
       "      <td>1.079318e-02</td>\n",
       "    </tr>\n",
       "    <tr>\n",
       "      <th>NationalTeamCaps</th>\n",
       "      <td>7.144400e-03</td>\n",
       "    </tr>\n",
       "    <tr>\n",
       "      <th>Height (meters)</th>\n",
       "      <td>3.267061e-03</td>\n",
       "    </tr>\n",
       "    <tr>\n",
       "      <th>PlayerSponsor_None</th>\n",
       "      <td>3.166388e-03</td>\n",
       "    </tr>\n",
       "    <tr>\n",
       "      <th>League_Premier League</th>\n",
       "      <td>2.205699e-03</td>\n",
       "    </tr>\n",
       "    <tr>\n",
       "      <th>Champions League_Yes</th>\n",
       "      <td>2.118980e-03</td>\n",
       "    </tr>\n",
       "    <tr>\n",
       "      <th>League_Ligue 1</th>\n",
       "      <td>2.010687e-03</td>\n",
       "    </tr>\n",
       "    <tr>\n",
       "      <th>Champions League_No</th>\n",
       "      <td>1.952977e-03</td>\n",
       "    </tr>\n",
       "    <tr>\n",
       "      <th>Nation/League_Yes</th>\n",
       "      <td>1.228833e-03</td>\n",
       "    </tr>\n",
       "    <tr>\n",
       "      <th>Nation/League_No</th>\n",
       "      <td>1.218372e-03</td>\n",
       "    </tr>\n",
       "    <tr>\n",
       "      <th>PlayerSponsor_Nike</th>\n",
       "      <td>1.205058e-03</td>\n",
       "    </tr>\n",
       "    <tr>\n",
       "      <th>League_Bundesliga</th>\n",
       "      <td>1.010925e-03</td>\n",
       "    </tr>\n",
       "    <tr>\n",
       "      <th>Position_Midfielder</th>\n",
       "      <td>1.003293e-03</td>\n",
       "    </tr>\n",
       "    <tr>\n",
       "      <th>Continent_CONMEBOL</th>\n",
       "      <td>8.935647e-04</td>\n",
       "    </tr>\n",
       "    <tr>\n",
       "      <th>Position_Forward</th>\n",
       "      <td>8.551139e-04</td>\n",
       "    </tr>\n",
       "    <tr>\n",
       "      <th>League_LaLiga</th>\n",
       "      <td>8.476635e-04</td>\n",
       "    </tr>\n",
       "    <tr>\n",
       "      <th>PlayerSponsor_adidas</th>\n",
       "      <td>7.033020e-04</td>\n",
       "    </tr>\n",
       "    <tr>\n",
       "      <th>League_Serie A</th>\n",
       "      <td>6.705709e-04</td>\n",
       "    </tr>\n",
       "    <tr>\n",
       "      <th>League_Eredivisie</th>\n",
       "      <td>6.268745e-04</td>\n",
       "    </tr>\n",
       "    <tr>\n",
       "      <th>PlayerSponsor_Other</th>\n",
       "      <td>6.192515e-04</td>\n",
       "    </tr>\n",
       "    <tr>\n",
       "      <th>Continent_UEFA</th>\n",
       "      <td>6.000290e-04</td>\n",
       "    </tr>\n",
       "    <tr>\n",
       "      <th>League_Liga NOS</th>\n",
       "      <td>5.619513e-04</td>\n",
       "    </tr>\n",
       "    <tr>\n",
       "      <th>Continent_CAF</th>\n",
       "      <td>4.785982e-04</td>\n",
       "    </tr>\n",
       "    <tr>\n",
       "      <th>Foot_right</th>\n",
       "      <td>4.737635e-04</td>\n",
       "    </tr>\n",
       "    <tr>\n",
       "      <th>PlayerSponsor_Puma</th>\n",
       "      <td>3.740866e-04</td>\n",
       "    </tr>\n",
       "    <tr>\n",
       "      <th>Foot_left</th>\n",
       "      <td>3.727543e-04</td>\n",
       "    </tr>\n",
       "    <tr>\n",
       "      <th>Position_Defender</th>\n",
       "      <td>3.479594e-04</td>\n",
       "    </tr>\n",
       "    <tr>\n",
       "      <th>Agent Yes/No_No</th>\n",
       "      <td>2.535614e-04</td>\n",
       "    </tr>\n",
       "    <tr>\n",
       "      <th>Agent Yes/No_Yes</th>\n",
       "      <td>2.280705e-04</td>\n",
       "    </tr>\n",
       "    <tr>\n",
       "      <th>Continent_CONCACAF</th>\n",
       "      <td>1.965741e-04</td>\n",
       "    </tr>\n",
       "    <tr>\n",
       "      <th>Foot_both</th>\n",
       "      <td>1.754907e-04</td>\n",
       "    </tr>\n",
       "    <tr>\n",
       "      <th>Position_Goalkeeper</th>\n",
       "      <td>1.684453e-04</td>\n",
       "    </tr>\n",
       "    <tr>\n",
       "      <th>League_Jupiler Pro League</th>\n",
       "      <td>1.316323e-04</td>\n",
       "    </tr>\n",
       "    <tr>\n",
       "      <th>League_Premier Liga</th>\n",
       "      <td>7.290754e-05</td>\n",
       "    </tr>\n",
       "    <tr>\n",
       "      <th>Continent_AFC</th>\n",
       "      <td>2.970158e-05</td>\n",
       "    </tr>\n",
       "    <tr>\n",
       "      <th>Continent_OFC</th>\n",
       "      <td>6.350869e-07</td>\n",
       "    </tr>\n",
       "  </tbody>\n",
       "</table>\n",
       "</div>"
      ],
      "text/plain": [
       "                                importance\n",
       "Highest Market Value (Euros)  8.985289e-01\n",
       "Years Since Peak              3.539236e-02\n",
       "2018/19 Games Played          1.807035e-02\n",
       "Age                           1.079318e-02\n",
       "NationalTeamCaps              7.144400e-03\n",
       "Height (meters)               3.267061e-03\n",
       "PlayerSponsor_None            3.166388e-03\n",
       "League_Premier League         2.205699e-03\n",
       "Champions League_Yes          2.118980e-03\n",
       "League_Ligue 1                2.010687e-03\n",
       "Champions League_No           1.952977e-03\n",
       "Nation/League_Yes             1.228833e-03\n",
       "Nation/League_No              1.218372e-03\n",
       "PlayerSponsor_Nike            1.205058e-03\n",
       "League_Bundesliga             1.010925e-03\n",
       "Position_Midfielder           1.003293e-03\n",
       "Continent_CONMEBOL            8.935647e-04\n",
       "Position_Forward              8.551139e-04\n",
       "League_LaLiga                 8.476635e-04\n",
       "PlayerSponsor_adidas          7.033020e-04\n",
       "League_Serie A                6.705709e-04\n",
       "League_Eredivisie             6.268745e-04\n",
       "PlayerSponsor_Other           6.192515e-04\n",
       "Continent_UEFA                6.000290e-04\n",
       "League_Liga NOS               5.619513e-04\n",
       "Continent_CAF                 4.785982e-04\n",
       "Foot_right                    4.737635e-04\n",
       "PlayerSponsor_Puma            3.740866e-04\n",
       "Foot_left                     3.727543e-04\n",
       "Position_Defender             3.479594e-04\n",
       "Agent Yes/No_No               2.535614e-04\n",
       "Agent Yes/No_Yes              2.280705e-04\n",
       "Continent_CONCACAF            1.965741e-04\n",
       "Foot_both                     1.754907e-04\n",
       "Position_Goalkeeper           1.684453e-04\n",
       "League_Jupiler Pro League     1.316323e-04\n",
       "League_Premier Liga           7.290754e-05\n",
       "Continent_AFC                 2.970158e-05\n",
       "Continent_OFC                 6.350869e-07"
      ]
     },
     "execution_count": 45,
     "metadata": {},
     "output_type": "execute_result"
    }
   ],
   "source": [
    "# random forest feature importances\n",
    "rf_feat_imp=pd.DataFrame(index=x_dummies.columns, data=rf_reg.feature_importances_,columns=['importance'])\n",
    "rf_feat_imp.sort_values('importance', ascending=False)"
   ]
  },
  {
   "cell_type": "markdown",
   "metadata": {},
   "source": [
    "# comparing model performances on test set"
   ]
  },
  {
   "cell_type": "code",
   "execution_count": 46,
   "metadata": {},
   "outputs": [
    {
     "name": "stdout",
     "output_type": "stream",
     "text": [
      "KNN Regression acc on test: 92.99% \n",
      "\n",
      "Linear Regression acc on test: 89.71% \n",
      "\n",
      "Ridge Regression acc on test 89.73% \n",
      "\n",
      "Lasso Regression on test 89.71% \n",
      "\n",
      "Decision Tree Regression acc on test: 93.46% \n",
      "\n",
      "Random Forest Regression acc on test: 96.33% \n",
      "\n"
     ]
    }
   ],
   "source": [
    "print('KNN Regression acc on test: {:.2%}'.format(knn_reg.score(X_test, y_test)),'\\n')\n",
    "print('Linear Regression acc on test: {:.2%}'.format(lr.score(X_test, y_test)),'\\n')\n",
    "print('Ridge Regression acc on test {:.2%}'.format(ridge.score(X_test, y_test)),'\\n')\n",
    "print('Lasso Regression on test {:.2%}'.format(lasso.score(X_test, y_test)),'\\n')\n",
    "print('Decision Tree Regression acc on test: {:.2%}'.format(dt_reg.score(X_test, y_test)),'\\n')\n",
    "print('Random Forest Regression acc on test: {:.2%}'.format(rf_reg.score(X_test, y_test)),'\\n')"
   ]
  },
  {
   "cell_type": "markdown",
   "metadata": {},
   "source": [
    "# Predictions "
   ]
  },
  {
   "cell_type": "code",
   "execution_count": 47,
   "metadata": {},
   "outputs": [
    {
     "data": {
      "text/plain": [
       "Index(['Age', 'Height (meters)', '2018/19 Games Played',\n",
       "       'Highest Market Value (Euros)', 'Years Since Peak', 'NationalTeamCaps',\n",
       "       'Champions League_No', 'Champions League_Yes', 'League_Bundesliga',\n",
       "       'League_Eredivisie', 'League_Jupiler Pro League', 'League_LaLiga',\n",
       "       'League_Liga NOS', 'League_Ligue 1', 'League_Premier League',\n",
       "       'League_Premier Liga', 'League_Serie A', 'Position_Defender ',\n",
       "       'Position_Forward ', 'Position_Goalkeeper', 'Position_Midfielder ',\n",
       "       'Foot_both', 'Foot_left', 'Foot_right', 'Agent Yes/No_No',\n",
       "       'Agent Yes/No_Yes', 'PlayerSponsor_Nike', 'PlayerSponsor_None',\n",
       "       'PlayerSponsor_Other', 'PlayerSponsor_Puma', 'PlayerSponsor_adidas',\n",
       "       'Nation/League_No', 'Nation/League_Yes', 'Continent_AFC',\n",
       "       'Continent_CAF', 'Continent_CONCACAF', 'Continent_CONMEBOL',\n",
       "       'Continent_OFC', 'Continent_UEFA'],\n",
       "      dtype='object')"
      ]
     },
     "execution_count": 47,
     "metadata": {},
     "output_type": "execute_result"
    }
   ],
   "source": [
    "x_dummies.columns"
   ]
  },
  {
   "cell_type": "code",
   "execution_count": 48,
   "metadata": {},
   "outputs": [],
   "source": [
    "C_Pulisic=[21,1.72,25,66000000,0,34,0,1,0,0,0,0,0,0,1,0,0,0,0,0,1,1,0,0,0,1,1,0,0,0,0,1,0,0,0,1,0,0,0]\n",
    "D_Silva=[34,1.70,27,55000000,8,125,1,0,0,0,0,1,0,0,0,0,0,0,0,0,1,0,1,0,0,1,0,0,0,1,0,0,1,0,0,0,0,0,1]\n",
    "F_Cardoso=[26,1.87,30,2200000,0,0,1,0,0,0,0,0,1,0,0,0,0,1,0,0,0,0,0,1,0,1,0,0,1,0,0,0,1,0,0,0,0,0,1]"
   ]
  },
  {
   "cell_type": "markdown",
   "metadata": {},
   "source": [
    "## KNN"
   ]
  },
  {
   "cell_type": "code",
   "execution_count": 49,
   "metadata": {},
   "outputs": [
    {
     "name": "stdout",
     "output_type": "stream",
     "text": [
      "KNN Regression prediction on Pulisic:  [58000000.] \n",
      "\n",
      "KNN Regression prediction on Silva:  [43000000.] \n",
      "\n",
      "KNN Regression prediction on Cardoso:  [1660000.] \n",
      "\n"
     ]
    }
   ],
   "source": [
    "print('KNN Regression prediction on Pulisic: ', knn_reg.predict([C_Pulisic]).round(2),'\\n')\n",
    "print('KNN Regression prediction on Silva: ', knn_reg.predict([D_Silva]).round(2),'\\n')\n",
    "print('KNN Regression prediction on Cardoso: ', knn_reg.predict([F_Cardoso]).round(2),'\\n')"
   ]
  },
  {
   "cell_type": "markdown",
   "metadata": {},
   "source": [
    "## Linear Regression"
   ]
  },
  {
   "cell_type": "code",
   "execution_count": 50,
   "metadata": {},
   "outputs": [
    {
     "name": "stdout",
     "output_type": "stream",
     "text": [
      "Linear Regression prediction on Pulisic:  [61122959.32] \n",
      "\n",
      "Linear Regression prediction on Silva:  [34272645.18] \n",
      "\n",
      "Linear Regression prediction on Cardoso:  [3897175.74] \n",
      "\n"
     ]
    }
   ],
   "source": [
    "print('Linear Regression prediction on Pulisic: ', lr.predict([C_Pulisic]).round(2),'\\n')\n",
    "print('Linear Regression prediction on Silva: ', lr.predict([D_Silva]).round(2),'\\n')\n",
    "print('Linear Regression prediction on Cardoso: ', lr.predict([F_Cardoso]).round(2),'\\n')"
   ]
  },
  {
   "cell_type": "markdown",
   "metadata": {},
   "source": [
    "## Ridge Regression"
   ]
  },
  {
   "cell_type": "code",
   "execution_count": 51,
   "metadata": {},
   "outputs": [
    {
     "name": "stdout",
     "output_type": "stream",
     "text": [
      "Ridge Regression prediction on Pulisic:  [60541893.77] \n",
      "\n",
      "Ridge Regression prediction on Silva:  [34846697.4] \n",
      "\n",
      "Ridge Regression prediction on Cardoso:  [3995723.9] \n",
      "\n"
     ]
    }
   ],
   "source": [
    "print('Ridge Regression prediction on Pulisic: ', ridge.predict([C_Pulisic]).round(2),'\\n')\n",
    "print('Ridge Regression prediction on Silva: ', ridge.predict([D_Silva]).round(2),'\\n')\n",
    "print('Ridge Regression prediction on Cardoso: ', ridge.predict([F_Cardoso]).round(2),'\\n')"
   ]
  },
  {
   "cell_type": "markdown",
   "metadata": {},
   "source": [
    "## Lasso Regression"
   ]
  },
  {
   "cell_type": "code",
   "execution_count": 52,
   "metadata": {},
   "outputs": [
    {
     "name": "stdout",
     "output_type": "stream",
     "text": [
      "Lasso Regression prediction on Pulisic:  [61122810.04] \n",
      "\n",
      "Lasso Regression prediction on Silva:  [34276321.36] \n",
      "\n",
      "Lasso Regression prediction on Cardoso:  [3900016.62] \n",
      "\n"
     ]
    }
   ],
   "source": [
    "print('Lasso Regression prediction on Pulisic: ', lasso.predict([C_Pulisic]).round(2),'\\n')\n",
    "print('Lasso Regression prediction on Silva: ', lasso.predict([D_Silva]).round(2),'\\n')\n",
    "print('Lasso Regression prediction on Cardoso: ', lasso.predict([F_Cardoso]).round(2),'\\n')"
   ]
  },
  {
   "cell_type": "markdown",
   "metadata": {},
   "source": [
    "## Decision Tree Regression"
   ]
  },
  {
   "cell_type": "code",
   "execution_count": 53,
   "metadata": {},
   "outputs": [
    {
     "name": "stdout",
     "output_type": "stream",
     "text": [
      "Decision Tree Regression prediction on Pulisic:  [65000000.] \n",
      "\n",
      "Decision Tree Regression prediction on Silva:  [25000000.] \n",
      "\n",
      "Decision Tree Regression prediction on Cardoso:  [1529473.68] \n",
      "\n"
     ]
    }
   ],
   "source": [
    "print('Decision Tree Regression prediction on Pulisic: ', dt_reg.predict([C_Pulisic]).round(2),'\\n')\n",
    "print('Decision Tree Regression prediction on Silva: ', dt_reg.predict([D_Silva]).round(2),'\\n')\n",
    "print('Decision Tree Regression prediction on Cardoso: ', dt_reg.predict([F_Cardoso]).round(2),'\\n')"
   ]
  },
  {
   "cell_type": "markdown",
   "metadata": {},
   "source": [
    "## Random Forest Regression"
   ]
  },
  {
   "cell_type": "code",
   "execution_count": 54,
   "metadata": {},
   "outputs": [
    {
     "name": "stdout",
     "output_type": "stream",
     "text": [
      "Random Forest Regression prediction on Pulisic:  [64030000.] \n",
      "\n",
      "Random Forest Regression prediction on Silva:  [20228333.33] \n",
      "\n",
      "Random Forest Regression prediction on Cardoso:  [2090750.] \n",
      "\n"
     ]
    }
   ],
   "source": [
    "print('Random Forest Regression prediction on Pulisic: ', rf_reg.predict([C_Pulisic]).round(2),'\\n')\n",
    "print('Random Forest Regression prediction on Silva: ', rf_reg.predict([D_Silva]).round(2),'\\n')\n",
    "print('Random Forest Regression prediction on Cardoso: ', rf_reg.predict([F_Cardoso]).round(2),'\\n')"
   ]
  },
  {
   "cell_type": "code",
   "execution_count": null,
   "metadata": {},
   "outputs": [],
   "source": []
  }
 ],
 "metadata": {
  "kernelspec": {
   "display_name": "Python 3 (ipykernel)",
   "language": "python",
   "name": "python3"
  },
  "language_info": {
   "codemirror_mode": {
    "name": "ipython",
    "version": 3
   },
   "file_extension": ".py",
   "mimetype": "text/x-python",
   "name": "python",
   "nbconvert_exporter": "python",
   "pygments_lexer": "ipython3",
   "version": "3.11.4"
  }
 },
 "nbformat": 4,
 "nbformat_minor": 4
}
